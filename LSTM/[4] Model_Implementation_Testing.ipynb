{
  "cells": [
    {
      "cell_type": "markdown",
      "metadata": {
        "id": "iGQy35rUlcRa"
      },
      "source": [
        "# Model Implementation Testing"
      ]
    },
    {
      "cell_type": "markdown",
      "metadata": {
        "id": "ejxryfnymb4H"
      },
      "source": [
        "By Nida Copty, India Tory, Emily Nguyen, Thomas Nguyen"
      ]
    },
    {
      "cell_type": "markdown",
      "metadata": {
        "id": "nja30yAXm15f"
      },
      "source": [
        "This notebook marks the culmination of our efforts in constructing LSTM models to forecast homeless shelter occupancy rates in Toronto. It represents the final installment in the LSTM series developed by the Compassionate Coders team.\n",
        "\n",
        "Across the preceding three notebooks, we've meticulously crafted four distinct LSTM implementations tailored to this project's objectives. In this concluding script, we shift our focus to rigorous testing, aiming to discern each model's performance under various conditions.\n",
        "\n",
        "Through comprehensive evaluation, we aim to identify the most effective model for forecasting homeless shelter occupancy rates. This script serves as the project's showcase, showcasing the strengths and capabilities of our LSTM implementations."
      ]
    },
    {
      "cell_type": "markdown",
      "metadata": {
        "id": "aW64EeaSqDDF"
      },
      "source": [
        "### Imports"
      ]
    },
    {
      "cell_type": "code",
      "execution_count": 4,
      "metadata": {
        "id": "MvuSdGUOlYcD"
      },
      "outputs": [],
      "source": [
        "import pandas as pd\n",
        "import numpy as np\n",
        "from copy import deepcopy as dc\n",
        "from torch.utils.data import Dataset\n",
        "import torch\n",
        "import torch.nn as nn\n",
        "from torch.utils.data import DataLoader\n",
        "from sklearn.preprocessing import MinMaxScaler\n",
        "from geopy.geocoders import Nominatim\n",
        "import matplotlib.pyplot as plt\n",
        "import random\n",
        "import seaborn as sns\n",
        "from itertools import combinations"
      ]
    },
    {
      "cell_type": "code",
      "source": [
        "from google.colab import drive\n",
        "drive.mount('/content/drive')"
      ],
      "metadata": {
        "colab": {
          "base_uri": "https://localhost:8080/"
        },
        "id": "uYqYG1jw6prW",
        "outputId": "0d7fbdb6-5ae2-4f47-f48f-3faa6a96587f"
      },
      "execution_count": 5,
      "outputs": [
        {
          "output_type": "stream",
          "name": "stdout",
          "text": [
            "Mounted at /content/drive\n"
          ]
        }
      ]
    },
    {
      "cell_type": "markdown",
      "metadata": {
        "id": "MLroEkKKqPm-"
      },
      "source": [
        "### Dataset Load"
      ]
    },
    {
      "cell_type": "code",
      "execution_count": 6,
      "metadata": {
        "id": "O1_GavNNqSNd"
      },
      "outputs": [],
      "source": [
        "#Occupancy Rate (Output Data):\n",
        "data_23 = r\"/content/drive/MyDrive/RBC | Borealis AI | Lets Solve IT/Datasets/daily-shelter-overnight-service-occupancy-capacity-2023.csv\"\n",
        "data_22 = r\"/content/drive/MyDrive/RBC | Borealis AI | Lets Solve IT/Datasets/daily-shelter-overnight-service-occupancy-capacity-2022.csv\"\n",
        "data_21 = r\"/content/drive/MyDrive/RBC | Borealis AI | Lets Solve IT/Datasets/daily-shelter-overnight-service-occupancy-capacity-2021.csv\"\n",
        "data_24 = r\"/content/drive/MyDrive/RBC | Borealis AI | Lets Solve IT/Datasets/Daily shelter overnight occupancy.csv\"\n",
        "links = [data_24, data_23, data_22, data_21]\n",
        "\n",
        "#Weather Data\n",
        "data_w_23 = r\"/content/drive/MyDrive/RBC | Borealis AI | Lets Solve IT/Datasets/en_climate_daily_ON_6158355_2023_P1D.csv\"\n",
        "data_w_24 = r\"/content/drive/MyDrive/RBC | Borealis AI | Lets Solve IT/Datasets/en_climate_daily_ON_6158355_2024_P1D.csv\"\n",
        "data_w_22 = r\"/content/drive/MyDrive/RBC | Borealis AI | Lets Solve IT/Datasets/en_climate_daily_ON_6158355_2022_P1D.csv\"\n",
        "data_w_21 = r\"/content/drive/MyDrive/RBC | Borealis AI | Lets Solve IT/Datasets/en_climate_daily_ON_6158355_2021_P1D.csv\"\n",
        "links_weather = [data_w_24, data_w_23, data_w_22, data_w_21]\n",
        "\n",
        "#Housing\n",
        "data_housing = r\"/content/drive/MyDrive/RBC | Borealis AI | Lets Solve IT/Datasets/Housing.csv\"\n",
        "\n",
        "#Crisis helpline\n",
        "data_crisis = r\"/content/drive/MyDrive/RBC | Borealis AI | Lets Solve IT/Datasets/Persons_in_Crisis_Calls_for_Service_Attended_Open_Data.csv\""
      ]
    },
    {
      "cell_type": "markdown",
      "metadata": {
        "id": "bay-nW5aqt7U"
      },
      "source": [
        "class to read and report on errors when reading csv files."
      ]
    },
    {
      "cell_type": "code",
      "execution_count": 7,
      "metadata": {
        "id": "E6CtzOFaq2QL"
      },
      "outputs": [],
      "source": [
        "def load_csv_to_pandas(file_path):\n",
        "    try:\n",
        "        # Load CSV file into a pandas dataFrame\n",
        "        df = pd.read_csv(file_path, header=0, low_memory=False, encoding='unicode_escape')\n",
        "        print(\"Number of rows in the dataFrame:\", file_path, len(df))\n",
        "        return df\n",
        "    except FileNotFoundError:\n",
        "        print(f\"File '{file_path}' not found.\")\n",
        "        return None\n",
        "    except Exception as e:\n",
        "        print(\"An error occurred:\", str(e))\n",
        "        return None"
      ]
    },
    {
      "cell_type": "markdown",
      "metadata": {
        "id": "lCx7EX7rq7ln"
      },
      "source": [
        "This function below is to convert all the datasets of different features into a singular panda dataframes and also a hashmap containing individual shelter datas."
      ]
    },
    {
      "cell_type": "code",
      "execution_count": 8,
      "metadata": {
        "id": "R7R3L8Ciq78s"
      },
      "outputs": [],
      "source": [
        "def loadData(output_data, weather_data, housing, crisis):\n",
        "\n",
        "    #-------Output Data-------#\n",
        "    #Loading up the links to the output dataset\n",
        "    for i in range(len(output_data)):\n",
        "        output_data[i] = load_csv_to_pandas(output_data[i])\n",
        "\n",
        "    #Dropping irrelevant columns for output datasets\n",
        "    for i in range(len(output_data)):\n",
        "        #print(output_data[i])\n",
        "        output_data[i] = output_data[i].drop(columns = ['_id', 'SHELTER_ID', 'LOCATION_ID', 'LOCATION_CITY', 'LOCATION_PROVINCE', 'PROGRAM_NAME', 'PROGRAM_AREA', 'SERVICE_USER_COUNT', 'CAPACITY_FUNDING_BED', 'UNOCCUPIED_BEDS', 'UNAVAILABLE_BEDS', 'CAPACITY_FUNDING_ROOM', 'UNOCCUPIED_ROOMS', 'UNAVAILABLE_ROOMS'])\n",
        "        output_data[i]['OCCUPANCY_DATE'] = output_data[i]['OCCUPANCY_DATE']\n",
        "        output_data[i]['OCCUPANCY_DATE'] =  pd.to_datetime(output_data[i]['OCCUPANCY_DATE'], format='%Y-%m-%d')\n",
        "\n",
        "    #Joining the Output data together\n",
        "    big_data = output_data[0]\n",
        "    for i in range(1,len(output_data)):\n",
        "        big_data = pd.concat([big_data, output_data[i]], ignore_index = True)\n",
        "\n",
        "    #Determine the max and min date in the dataset to create a date vector to fill out empty values\n",
        "    max_date = big_data['OCCUPANCY_DATE'].max()\n",
        "    min_date = big_data['OCCUPANCY_DATE'].min()\n",
        "    date_range = pd.date_range(start=min_date, end=max_date, freq = 'D')\n",
        "    date_df = pd.DataFrame({'OCCUPANCY_DATE': date_range})\n",
        "\n",
        "    #-------Weather Data-------#\n",
        "\n",
        "    #loading up the links to the weather dataset\n",
        "    for i in range(len(weather_data)):\n",
        "        weather_data[i] = load_csv_to_pandas(weather_data[i])\n",
        "\n",
        "    #Dropping irrelevant columns for weather datasets\n",
        "    for i in range(len(weather_data)):\n",
        "        weather_data[i] = weather_data[i].drop(columns = ['ï»¿\"Longitude (x)\"', 'Latitude (y)', 'Station Name', 'Climate ID', 'Year', 'Month', 'Day', 'Data Quality', 'Max Temp Flag', 'Min Temp Flag', 'Mean Temp Flag', 'Heat Deg Days Flag', 'Cool Deg Days Flag', 'Total Rain (mm)', 'Total Rain Flag', 'Total Snow (cm)', 'Total Snow Flag', 'Total Precip Flag',\n",
        "        'Snow on Grnd Flag', 'Dir of Max Gust (10s deg)', 'Dir of Max Gust Flag', 'Spd of Max Gust (km/h)', 'Spd of Max Gust Flag'])\n",
        "        weather_data[i]['Date/Time'] = weather_data[i]['Date/Time'].astype(str)\n",
        "        weather_data[i]['Date/Time'] = pd.to_datetime(weather_data[i]['Date/Time'])\n",
        "\n",
        "    #Joining the Weather data together\n",
        "    big_weather = weather_data[0]\n",
        "    for i in range(1, len(weather_data)):\n",
        "        big_weather = pd.concat([big_weather, weather_data[i]], ignore_index = True)\n",
        "\n",
        "    #Cut down all data with dates that is bigger than the biggest date and smaller than the smallest date with an output\n",
        "    big_weather = big_weather[big_weather['Date/Time'] <= max_date]\n",
        "    big_weather = big_weather[big_weather['Date/Time'] >= min_date]\n",
        "\n",
        "    #Fill out datasets' entries w no data w 0\n",
        "    big_weather = big_weather.fillna(0)\n",
        "\n",
        "    #Changing non output dataset's date column to 'OCCUPANCY_DATE'\n",
        "    big_weather = big_weather.rename(columns = {'Date/Time': 'OCCUPANCY_DATE'})\n",
        "\n",
        "    #-------Housing Data-------#\n",
        "\n",
        "    #loading up housing data\n",
        "    housing = load_csv_to_pandas(housing)\n",
        "\n",
        "    #Dropping irrelevant columns for housing dataset\n",
        "    housing = housing[housing['GEO'] == 'Toronto, Ontario']\n",
        "    housing = housing[housing['New housing price indexes'] == 'Total (house and land)']\n",
        "    housing = housing.drop(columns = ['GEO', 'DGUID', 'New housing price indexes', 'UOM', 'UOM_ID', 'SCALAR_FACTOR', 'SCALAR_ID', 'VECTOR', 'COORDINATE', 'STATUS', 'SYMBOL', 'TERMINATED', 'DECIMALS'])\n",
        "    housing = housing.rename(columns = {housing.columns[0]: 'OCCUPANCY_DATE'})\n",
        "    housing[\"OCCUPANCY_DATE\"] = pd.to_datetime(housing[\"OCCUPANCY_DATE\"])\n",
        "    housing = housing[housing[\"OCCUPANCY_DATE\"] >= min_date]\n",
        "    housing = housing[housing[\"OCCUPANCY_DATE\"] <= max_date].reset_index(drop=True)\n",
        "    housing = pd.merge(housing, date_df, on = 'OCCUPANCY_DATE', how = 'outer')\n",
        "    housing = housing.sort_values(by='OCCUPANCY_DATE').reset_index(drop=True)\n",
        "    housing = housing.ffill()\n",
        "\n",
        "    #-------Crisis Data-------#\n",
        "\n",
        "    #Loading the crisis dataset\n",
        "    crisis = load_csv_to_pandas(crisis)\n",
        "\n",
        "    #Analyize Data\n",
        "    crisis = crisis.drop(columns = ['ï»¿OBJECTID', 'EVENT_ID', 'EVENT_YEAR', 'EVENT_MONTH', 'EVENT_DOW', 'EVENT_HOUR', 'DIVISION', 'OCCURRENCE_CREATED', 'APPREHENSION_MADE', 'MCIT_ATTEND', 'HOOD_158', 'NEIGHBOURHOOD_158', 'HOOD_140', 'NEIGHBOURHOOD_140'])\n",
        "    crisis = crisis.rename(columns = {'EVENT_DATE': 'OCCUPANCY_DATE'})\n",
        "    crisis = crisis.groupby(['OCCUPANCY_DATE', 'EVENT_TYPE']).size().unstack(fill_value=0)\n",
        "    crisis.reset_index(inplace=True)\n",
        "    crisis = crisis.rename_axis(None, axis=1)\n",
        "    crisis['OCCUPANCY_DATE'] = pd.to_datetime(crisis['OCCUPANCY_DATE']).dt.date\n",
        "    crisis['OCCUPANCY_DATE'] = pd.to_datetime(crisis['OCCUPANCY_DATE'])\n",
        "    crisis = crisis[crisis[\"OCCUPANCY_DATE\"] >= min_date]\n",
        "    crisis = crisis[crisis[\"OCCUPANCY_DATE\"] <= max_date]\n",
        "    crisis = pd.merge(date_df, crisis, on='OCCUPANCY_DATE', how='left')\n",
        "\n",
        "    #-------Final Data Prep-------#\n",
        "\n",
        "    #Merge the datasets together through date\n",
        "    big_data = pd.merge(big_data, big_weather, on = 'OCCUPANCY_DATE', how = 'inner')\n",
        "    big_data = pd.merge(big_data, housing, on = 'OCCUPANCY_DATE', how = 'inner')\n",
        "    big_data = pd.merge(big_data, crisis, on = 'OCCUPANCY_DATE', how = 'inner')\n",
        "\n",
        "    big_data = big_data.sort_values(by='OCCUPANCY_DATE')\n",
        "\n",
        "    #Placing the bed and room occupancy column last\n",
        "    room_occupancy = big_data.pop('OCCUPANCY_RATE_ROOMS')\n",
        "    bed_occupancy = big_data.pop('OCCUPANCY_RATE_BEDS')\n",
        "    big_data['OCCUPANCY_RATE_BEDS'] = bed_occupancy\n",
        "    big_data['OCCUPANCY_RATE_ROOMS'] = room_occupancy\n",
        "\n",
        "    grouped_data = big_data.groupby('PROGRAM_ID')\n",
        "    shelter_data_frames = {}\n",
        "    for shelter_id, shelter_group in grouped_data:\n",
        "        shelter_data_frames[shelter_id] = shelter_group\n",
        "        shelter_data_frames[shelter_id]['OCCUPANCY_DATE'] = pd.to_datetime(shelter_data_frames[shelter_id]['OCCUPANCY_DATE'])\n",
        "\n",
        "    big_data.reset_index(inplace=True)\n",
        "    big_data = big_data.drop(columns = ['index'])\n",
        "\n",
        "    return big_data, shelter_data_frames"
      ]
    },
    {
      "cell_type": "markdown",
      "metadata": {
        "id": "1O74CRlk5dtZ"
      },
      "source": [
        "The dataframe above contains every single data points of every shelters from 2021 to 2024. Inorder to get a trainable dataset for the combined shelter data multivariate model, we will have to combine the data of everysingle shelters together into one big city wide occupancy rates. This function below will achieve that target."
      ]
    },
    {
      "cell_type": "code",
      "execution_count": 9,
      "metadata": {
        "id": "yblOfdLx5iR4"
      },
      "outputs": [],
      "source": [
        "def merge_Shelters_Data(df):\n",
        "    df = df.drop(columns = ['ORGANIZATION_NAME', 'SHELTER_GROUP', 'LOCATION_NAME', 'SECTOR', 'ORGANIZATION_ID', 'PROGRAM_MODEL', 'OVERNIGHT_SERVICE_TYPE' ,'LOCATION_ADDRESS', 'LOCATION_POSTAL_CODE', 'PROGRAM_ID', 'CAPACITY_TYPE', 'OCCUPANCY_RATE_BEDS', 'OCCUPANCY_RATE_ROOMS'])\n",
        "    grouped_capacity = df.groupby('OCCUPANCY_DATE')[['CAPACITY_ACTUAL_BED', 'CAPACITY_ACTUAL_ROOM']].sum()\n",
        "    grouped_occupied = df.groupby('OCCUPANCY_DATE')[['OCCUPIED_BEDS', 'OCCUPIED_ROOMS']].sum()\n",
        "\n",
        "    df = df.merge(grouped_capacity, on='OCCUPANCY_DATE', suffixes=('', '_TOTAL_CAPACITY'))\n",
        "    df = df.merge(grouped_occupied, on='OCCUPANCY_DATE', suffixes=('', '_TOTAL_OCCUPIED'))\n",
        "    df = df.drop(columns = ['CAPACITY_ACTUAL_BED', 'CAPACITY_ACTUAL_ROOM', 'OCCUPIED_BEDS', 'OCCUPIED_ROOMS'])\n",
        "    df = df.drop_duplicates()\n",
        "\n",
        "    df['TOTAL_OCCUPIED'] = df['OCCUPIED_BEDS_TOTAL_OCCUPIED'] + df['OCCUPIED_ROOMS_TOTAL_OCCUPIED']\n",
        "    df['TOTAL_CAPACITY'] = df['CAPACITY_ACTUAL_BED_TOTAL_CAPACITY'] + df['CAPACITY_ACTUAL_ROOM_TOTAL_CAPACITY']\n",
        "    df['OCCUPIED_PERCENTAGE'] = 100 * df['TOTAL_OCCUPIED']/df['TOTAL_CAPACITY']\n",
        "    df = df.drop(columns = ['CAPACITY_ACTUAL_BED_TOTAL_CAPACITY', 'CAPACITY_ACTUAL_ROOM_TOTAL_CAPACITY', 'OCCUPIED_BEDS_TOTAL_OCCUPIED', 'OCCUPIED_ROOMS_TOTAL_OCCUPIED', 'TOTAL_CAPACITY', 'TOTAL_OCCUPIED'])\n",
        "    return df"
      ]
    },
    {
      "cell_type": "markdown",
      "metadata": {
        "id": "SmFYTI_mq_8o"
      },
      "source": [
        "Running the function to get the dataframe and hashmap"
      ]
    },
    {
      "cell_type": "code",
      "execution_count": 10,
      "metadata": {
        "colab": {
          "base_uri": "https://localhost:8080/"
        },
        "id": "h0wGfbAtrBQ4",
        "outputId": "97c11f4d-e122-4ff1-e6b2-e17a85e85db0"
      },
      "outputs": [
        {
          "output_type": "stream",
          "name": "stdout",
          "text": [
            "Number of rows in the dataFrame: /content/drive/MyDrive/RBC | Borealis AI | Lets Solve IT/Datasets/Daily shelter overnight occupancy.csv 11459\n",
            "Number of rows in the dataFrame: /content/drive/MyDrive/RBC | Borealis AI | Lets Solve IT/Datasets/daily-shelter-overnight-service-occupancy-capacity-2023.csv 48345\n",
            "Number of rows in the dataFrame: /content/drive/MyDrive/RBC | Borealis AI | Lets Solve IT/Datasets/daily-shelter-overnight-service-occupancy-capacity-2022.csv 49478\n",
            "Number of rows in the dataFrame: /content/drive/MyDrive/RBC | Borealis AI | Lets Solve IT/Datasets/daily-shelter-overnight-service-occupancy-capacity-2021.csv 50944\n",
            "Number of rows in the dataFrame: /content/drive/MyDrive/RBC | Borealis AI | Lets Solve IT/Datasets/en_climate_daily_ON_6158355_2024_P1D.csv 366\n",
            "Number of rows in the dataFrame: /content/drive/MyDrive/RBC | Borealis AI | Lets Solve IT/Datasets/en_climate_daily_ON_6158355_2023_P1D.csv 365\n",
            "Number of rows in the dataFrame: /content/drive/MyDrive/RBC | Borealis AI | Lets Solve IT/Datasets/en_climate_daily_ON_6158355_2022_P1D.csv 365\n",
            "Number of rows in the dataFrame: /content/drive/MyDrive/RBC | Borealis AI | Lets Solve IT/Datasets/en_climate_daily_ON_6158355_2021_P1D.csv 365\n",
            "Number of rows in the dataFrame: /content/drive/MyDrive/RBC | Borealis AI | Lets Solve IT/Datasets/Housing.csv 62160\n",
            "Number of rows in the dataFrame: /content/drive/MyDrive/RBC | Borealis AI | Lets Solve IT/Datasets/Persons_in_Crisis_Calls_for_Service_Attended_Open_Data.csv 291991\n"
          ]
        }
      ],
      "source": [
        "dataframe, iso_data = loadData(links.copy(), links_weather.copy(), data_housing, data_crisis)"
      ]
    },
    {
      "cell_type": "markdown",
      "metadata": {
        "id": "VfYI4d4DtpwI"
      },
      "source": [
        "### Convert Dataset to DataLoader\n",
        "\n",
        "With the proper dataframe, we will need to convert the dataset into a timeseries and then dataloader to feed into the model for training"
      ]
    },
    {
      "cell_type": "markdown",
      "metadata": {
        "id": "S7W-X2jAua47"
      },
      "source": [
        "This function below is to grab the scaler to scale the dataset"
      ]
    },
    {
      "cell_type": "code",
      "execution_count": 11,
      "metadata": {
        "id": "_cZ1jYCZubtx"
      },
      "outputs": [],
      "source": [
        "def get_scaler():\n",
        "    scaler = MinMaxScaler(feature_range = (-1, 1))\n",
        "    return scaler"
      ]
    },
    {
      "cell_type": "markdown",
      "metadata": {
        "id": "M7D_eJhTueP6"
      },
      "source": [
        "Differing than the Univariate, we will have to check if all features have all of their values filled in. If not we must manually fill it in by taking the average of the existing data. The function below accomplishes that."
      ]
    },
    {
      "cell_type": "code",
      "execution_count": 12,
      "metadata": {
        "id": "KLuzefFruVSt"
      },
      "outputs": [],
      "source": [
        "def feature_check(df):\n",
        "    df_ = dc(df)\n",
        "    for i in df_.columns:\n",
        "        if df_[i].isna().any():\n",
        "            avg = df_[i].mean()\n",
        "            df_.loc[:, i] = df_[i].fillna(avg)\n",
        "    return df_"
      ]
    },
    {
      "cell_type": "markdown",
      "metadata": {
        "id": "75S3LkVzujUa"
      },
      "source": [
        "To Convert the dataset into a dataloader, we will need to define a Dataset class for the time series"
      ]
    },
    {
      "cell_type": "code",
      "execution_count": 13,
      "metadata": {
        "id": "Vat87lPZukc2"
      },
      "outputs": [],
      "source": [
        "class TimeSeriesDataset(Dataset):\n",
        "    def __init__(self, X, y):\n",
        "        self.X = X\n",
        "        self.y = y\n",
        "\n",
        "    def __len__(self):\n",
        "        return len(self.X)\n",
        "\n",
        "    def __getitem__(self, i):\n",
        "        return self.X[i], self.y[i]"
      ]
    },
    {
      "cell_type": "markdown",
      "metadata": {
        "id": "cgUNtpDnumvV"
      },
      "source": [
        "This function below will convert the dataframe to a time series for the model with proper hyperparameters as inputs"
      ]
    },
    {
      "cell_type": "code",
      "execution_count": 14,
      "metadata": {
        "id": "kWTCC2ehupPP"
      },
      "outputs": [],
      "source": [
        "def time_series_converter(iso_data, scaler, n_past, n_future, train_test_split, batch_size, used_features, shel_group = None):\n",
        "\n",
        "    train_x = []\n",
        "    train_y = []\n",
        "\n",
        "    if shel_group is not None:\n",
        "\n",
        "        one_hot_len = max(shel_group.values()) + 1\n",
        "\n",
        "        num_feat = len(used_features) - 1 + one_hot_len\n",
        "\n",
        "        dfs = []\n",
        "\n",
        "        #Iterate through all useable Shelters\n",
        "        for i in shel_group:\n",
        "\n",
        "            #Getting the df from Iso Data\n",
        "            df = dc(iso_data[int(i)])\n",
        "\n",
        "            #Unifying the df to have the same output column name\n",
        "            if df['OCCUPANCY_RATE_ROOMS'].isna().all():\n",
        "                df = df.rename(columns = {'OCCUPANCY_RATE_BEDS': 'OCCUPIED_PERCENTAGE'})\n",
        "            else:\n",
        "                df = df.rename(columns = {'OCCUPANCY_RATE_ROOMS': 'OCCUPIED_PERCENTAGE'})\n",
        "\n",
        "            df = df[used_features]\n",
        "\n",
        "            df = feature_check(df)\n",
        "\n",
        "            for z in range(one_hot_len):\n",
        "                if shel_group[i] == z:\n",
        "                    df['Feature_' + str(z)] = 1\n",
        "                else:\n",
        "                    df['Feature_' + str(z)] = 0\n",
        "\n",
        "            dfs.append(df)\n",
        "\n",
        "            #Concatenating all Dfs together\n",
        "            concatenated_df = pd.concat(dfs, ignore_index=True)\n",
        "\n",
        "            #Isolate the feature columns\n",
        "            iso_col = concatenated_df[['Feature_' + str(i) for i in range(one_hot_len)]]\n",
        "\n",
        "            #Scaled the dfs\n",
        "            scaler = scaler.fit(concatenated_df[used_features[1:]])\n",
        "            np_df = scaler.fit_transform(concatenated_df[used_features[1:]])\n",
        "            df_scaled = pd.DataFrame(np_df, columns=used_features[1:])\n",
        "\n",
        "            #Combined the final df together\n",
        "            np_df = pd.concat([iso_col, df_scaled], axis=1).values\n",
        "\n",
        "    else:\n",
        "        df = dc(iso_data)\n",
        "        df.set_index('OCCUPANCY_DATE', inplace=True)\n",
        "        df = df.astype(float)\n",
        "        scaler = scaler.fit(df)\n",
        "\n",
        "        np_df = scaler.transform(df)\n",
        "\n",
        "        num_feat = len([i for i in df])\n",
        "\n",
        "    #Converting it into a time series\n",
        "    for i in range(n_past, len(np_df) - n_future + 1):\n",
        "        train_x.append(np_df[i - n_past: i, 0:np_df.shape[1]])\n",
        "        train_y.append(np_df[i: i + n_future, - 1])\n",
        "\n",
        "    train_x, train_y = np.array(train_x), np.array(train_y)\n",
        "\n",
        "    split_index = int(len(train_x) * train_test_split)\n",
        "\n",
        "    X_train = train_x[:split_index]\n",
        "    X_test = train_x[split_index:]\n",
        "\n",
        "    Y_train = train_y[:split_index]\n",
        "    Y_test = train_y[split_index:]\n",
        "\n",
        "    X_train_ = X_train.reshape((-1, n_past, num_feat))\n",
        "    X_test_ = X_test.reshape((-1, n_past, num_feat))\n",
        "\n",
        "    X_train = torch.tensor(X_train).float()\n",
        "    Y_train = torch.tensor(Y_train).float()\n",
        "    X_test = torch.tensor(X_test).float()\n",
        "    Y_test = torch.tensor(Y_test).float()\n",
        "\n",
        "    train_Dataset = TimeSeriesDataset(X_train, Y_train)\n",
        "    test_Dataset = TimeSeriesDataset(X_test, Y_test)\n",
        "\n",
        "    train_loader = DataLoader(train_Dataset, batch_size = batch_size, shuffle = True)\n",
        "    test_loader = DataLoader(test_Dataset, batch_size = batch_size, shuffle = False)\n",
        "\n",
        "    return train_loader, test_loader"
      ]
    },
    {
      "cell_type": "markdown",
      "metadata": {
        "id": "XnfWQOGQvB6p"
      },
      "source": [
        "### Define the Model\n",
        "\n",
        "Before training can begin, we will have to define the model architecture. Since the model is an lstm, it will contain LSTM architectures and also fully connected layers for the final output result. Please see the infrastructure below:"
      ]
    },
    {
      "cell_type": "code",
      "execution_count": 15,
      "metadata": {
        "id": "Ahjh8mXUvGT2"
      },
      "outputs": [],
      "source": [
        "class LSTM(nn.Module):\n",
        "    def __init__(self, input_size, hidden_size, num_stacked_layers, output_size):\n",
        "        super().__init__()\n",
        "        self.hidden_size = hidden_size\n",
        "        self.num_stacked_layers = num_stacked_layers\n",
        "\n",
        "        # Define the LSTM layers\n",
        "        self.lstm_layers = nn.ModuleList([nn.LSTM(input_size, hidden_size, batch_first=True)])\n",
        "        for _ in range(1, num_stacked_layers):\n",
        "            self.lstm_layers.append(nn.LSTM(hidden_size, hidden_size, batch_first=True))\n",
        "\n",
        "        # Define the fully connected layers\n",
        "        self.fc_layers = nn.ModuleList([nn.Linear(hidden_size, hidden_size)])\n",
        "        self.fc_layers.append(nn.Linear(hidden_size, output_size))\n",
        "\n",
        "    def forward(self, x):\n",
        "        batch_size = x.size(0)\n",
        "        out = x\n",
        "\n",
        "        # Initialize hidden state and cell state tensors for each LSTM layer\n",
        "        hidden_states = [torch.zeros(1, batch_size, self.hidden_size) for _ in range(self.num_stacked_layers)]\n",
        "        cell_states = [torch.zeros(1, batch_size, self.hidden_size) for _ in range(self.num_stacked_layers)]\n",
        "\n",
        "        # Pass input through each LSTM layer\n",
        "        for lstm_layer, h0, c0 in zip(self.lstm_layers, hidden_states, cell_states):\n",
        "            out, _ = lstm_layer(out)\n",
        "\n",
        "        # Apply fully connected layers\n",
        "        out = self.fc_layers[0](out[:, -1, :])  # Apply the first fully connected layer\n",
        "        out = torch.relu(out)  # Apply ReLU activation function\n",
        "        for fc_layer in self.fc_layers[1:]:\n",
        "            out = fc_layer(out)\n",
        "\n",
        "        return out"
      ]
    },
    {
      "cell_type": "markdown",
      "metadata": {
        "id": "I7aCZA5pvIqg"
      },
      "source": [
        "Model Training Function. Call this function and pass in the model to begin training."
      ]
    },
    {
      "cell_type": "code",
      "execution_count": 16,
      "metadata": {
        "id": "aypqC8DKvQH8"
      },
      "outputs": [],
      "source": [
        "def begin_training(model,num_epochs, train_loader, test_loader, loss, optimizer, device):\n",
        "\n",
        "    training_loss = []\n",
        "    validation_loss = []\n",
        "    average_validation_loss = []\n",
        "    for epoch in range(num_epochs):\n",
        "\n",
        "        #Training\n",
        "        model.train(True)\n",
        "        running_loss = 0\n",
        "\n",
        "        for batch_index, batch in enumerate(train_loader):\n",
        "            x_batch, y_batch = batch[0].to(device), batch[1].to(device)\n",
        "            output        = model(x_batch).to(device)\n",
        "            loss_         = loss(output, y_batch)\n",
        "            running_loss += loss_.item()\n",
        "\n",
        "            optimizer.zero_grad()\n",
        "            loss_.backward()\n",
        "            optimizer.step()\n",
        "        training_loss.append(running_loss)\n",
        "\n",
        "        #Validating\n",
        "        model.train(False)\n",
        "        vad_loss = 0\n",
        "\n",
        "        for batch_index, batch in enumerate(test_loader):\n",
        "            x_batch, y_batch = batch[0].to(device), batch[1].to(device)\n",
        "\n",
        "            with torch.no_grad():\n",
        "                output    = model(x_batch).to(device)\n",
        "                loss_     = loss(output, y_batch)\n",
        "                vad_loss += loss_.item()\n",
        "\n",
        "        validation_loss.append(vad_loss)\n",
        "        avg_loss_across_batches = vad_loss / len(test_loader)\n",
        "        average_validation_loss.append(avg_loss_across_batches)\n",
        "\n",
        "\n",
        "    return model, training_loss, validation_loss, average_validation_loss"
      ]
    },
    {
      "cell_type": "markdown",
      "metadata": {
        "id": "MmjnSNnK9iVn"
      },
      "source": [
        "This function below randomized the weights of the model. This function is to make sure the model is properly initialized while testing."
      ]
    },
    {
      "cell_type": "code",
      "execution_count": 17,
      "metadata": {
        "id": "l2vkIN4J9ole"
      },
      "outputs": [],
      "source": [
        "def reset_weights(module):\n",
        "    if isinstance(module, nn.Conv2d) or isinstance(module, nn.Linear):\n",
        "        module.reset_parameters()"
      ]
    },
    {
      "cell_type": "markdown",
      "metadata": {
        "id": "AWZHq4VuurGe"
      },
      "source": [
        "### Testing Commences"
      ]
    },
    {
      "cell_type": "markdown",
      "metadata": {
        "id": "nBJ9qqeWAE7C"
      },
      "source": [
        "Since the multivariate models that uses one hot encoded grouping are trained on only 62 viable shelters, the rest of the shelters will be eliminated from testing."
      ]
    },
    {
      "cell_type": "code",
      "execution_count": 18,
      "metadata": {
        "id": "K_n6TFkAD8vE"
      },
      "outputs": [],
      "source": [
        "viable_shelters = [11794, 11798, 11799, 11815, 11831, 11871, 11891, 11895, 11911, 11971, 12011, 12053, 12231, 12251, 12252, 12254, 12274, 12291, 12292, 12471, 12711, 13451, 13932, 14051, 14251, 14571, 14572, 14631, 14651, 14671, 14931, 15111, 15112, 15171, 15711, 15811, 15871, 16111, 16131, 16151, 16191, 16192, 16193, 16194, 16271, 16311, 16371, 16671, 16691, 16891, 16892, 16911, 17011, 17012, 17191, 17211, 17212, 17691, 17771, 17772, 17791, 17811]\n",
        "for i in iso_data.copy():\n",
        "  if i not in viable_shelters:\n",
        "    del iso_data[i]"
      ]
    },
    {
      "cell_type": "markdown",
      "source": [
        "For testing purposes, we will only be comparing our accuracy with these 5 shelters: 11794, 11831, 11252, 11254, 11274"
      ],
      "metadata": {
        "id": "d-Jk8Y_ca6rF"
      }
    },
    {
      "cell_type": "code",
      "source": [
        "test_shelters = [11794, 11831, 12252, 12254, 12274]\n",
        "test_data = iso_data.copy()\n",
        "for i in test_data.copy():\n",
        "  if i not in test_shelters:\n",
        "    del test_data[i]"
      ],
      "metadata": {
        "id": "ATO0xdPrbA_4"
      },
      "execution_count": 19,
      "outputs": []
    },
    {
      "cell_type": "markdown",
      "metadata": {
        "id": "L6fnFRFaPW96"
      },
      "source": [
        "We will also need to use the model to infer future dates to calculate their performance. The function below achieves that."
      ]
    },
    {
      "cell_type": "code",
      "execution_count": 20,
      "metadata": {
        "id": "Fxj8sODaPebl"
      },
      "outputs": [],
      "source": [
        "def infer_date_(model, df, scaler, n_future, future_days = None, one_hot_feature = None):\n",
        "\n",
        "    #one_hot_feature guide\n",
        "    #0: Index of 1's\n",
        "    #1: Length of Vector\n",
        "\n",
        "    #Set model training to False\n",
        "    model.train(False)\n",
        "    copy_df = dc(df)\n",
        "\n",
        "    #Case 1: if model predicts multiple days at once\n",
        "    if n_future > 1:\n",
        "\n",
        "        #Build Dateframe for future days\n",
        "        max_date = df['OCCUPANCY_DATE'].max()\n",
        "        date_range = pd.date_range(start=max_date, end=max_date + pd.Timedelta(days=n_future), freq = 'D')\n",
        "        df_new = pd.DataFrame({'OCCUPANCY_DATE': date_range})\n",
        "\n",
        "        #Scaling input Dataframe\n",
        "        copy_df.set_index('OCCUPANCY_DATE', inplace = True)\n",
        "        df_scaled = scaler.fit_transform(copy_df)\n",
        "\n",
        "        if one_hot_feature is not None:\n",
        "            for i in range(one_hot_feature[1]):\n",
        "\n",
        "                if i != one_hot_feature[0]:\n",
        "                    arr = np.zeros((df_scaled.shape[0], 1))\n",
        "                    df_scaled = np.hstack((arr, df_scaled))\n",
        "                else:\n",
        "                    arr = np.ones((df_scaled.shape[0], 1))\n",
        "                    df_scaled = np.hstack((arr, df_scaled))\n",
        "\n",
        "        #Convert data to tensor and passing it into the model to get predicted data and converting it into a panda dataframe before returning it\n",
        "        input_data = torch.tensor(df_scaled).unsqueeze(0).float().to(device)\n",
        "        y = model(input_data).detach().cpu().numpy().reshape(-1, 1)\n",
        "        y_ = np.repeat(y, copy_df.shape[1], axis = -1)\n",
        "        y_actual = scaler.inverse_transform(y_)[:,-1]\n",
        "        y_inserted = np.insert(y_actual, 0, df['OCCUPIED_PERCENTAGE'].iloc[-1])\n",
        "        df_new['OCCUPIED_PERCENTAGE'] = pd.DataFrame(y_inserted, columns = ['OCCUPIED_PERCENTAGE'])\n",
        "\n",
        "\n",
        "    #Case 2: if model predicts one day at a time; therefore need loop to predict all future_days days.\n",
        "    if n_future == 1 and future_days is not None:\n",
        "\n",
        "        data = torch.tensor(scaler.fit_transform(np.array(copy_df['OCCUPIED_PERCENTAGE']).reshape(-1, 1)).reshape((-1, copy_df.shape[0], 1))).float()\n",
        "        for i in range(future_days):\n",
        "            y = model(data).unsqueeze(0)\n",
        "            data = torch.cat((data, y), dim = 1)\n",
        "        data = scaler.inverse_transform(data.squeeze().detach().numpy().reshape(-1, 1)).flatten()\n",
        "\n",
        "        #Adding a data column to the new data\n",
        "        max_date = copy_df['OCCUPANCY_DATE'].max()\n",
        "        date_range = pd.date_range(start=max_date , end=max_date + pd.Timedelta(days=future_days), freq = 'D')\n",
        "        df_new = pd.DataFrame({'OCCUPANCY_DATE': date_range})\n",
        "\n",
        "        #Getting the newly generated portion of data\n",
        "        new_data = data[-future_days:]\n",
        "        new_data = np.insert(new_data, 0, copy_df['OCCUPIED_PERCENTAGE'].iloc[-1])\n",
        "        new_data_df = pd.DataFrame(new_data, columns = ['OCCUPIED_PERCENTAGE'])\n",
        "\n",
        "        #Combined\n",
        "        df_new['OCCUPIED_PERCENTAGE'] = new_data_df\n",
        "\n",
        "    return df_new"
      ]
    },
    {
      "cell_type": "markdown",
      "metadata": {
        "id": "KTcMZEbhO1cL"
      },
      "source": [
        "For each feature set that we test on, we will ask each model implementation to infer data for every single viable individual shelter and calculate the average loss for each model. The function below will take the model and iterate through all individual shelter to find the average loss."
      ]
    },
    {
      "cell_type": "code",
      "execution_count": 21,
      "metadata": {
        "id": "7fAgMwhGPHog"
      },
      "outputs": [],
      "source": [
        "def calc_loss(model, iso_data, used_features, shel_grouping = None, adj_factors = None):\n",
        "  #Initialize the Loss variables\n",
        "  total_shel = 0\n",
        "  loss_ = 0\n",
        "\n",
        "  total_shel_ = 0\n",
        "  loss_sq = 0\n",
        "\n",
        "  for i in iso_data:\n",
        "\n",
        "    if len(iso_data[i]) > 60:\n",
        "      df = iso_data[i]\n",
        "\n",
        "      #Rename the columns\n",
        "      if df['OCCUPANCY_RATE_ROOMS'].isna().all():\n",
        "        df = df.rename(columns = {'OCCUPANCY_RATE_BEDS': 'OCCUPIED_PERCENTAGE'})\n",
        "      else:\n",
        "        df = df.rename(columns = {'OCCUPANCY_RATE_ROOMS': 'OCCUPIED_PERCENTAGE'})\n",
        "\n",
        "\n",
        "      df_mult = df.copy()\n",
        "\n",
        "      #Selecting on used features\n",
        "      df = df[used_features]\n",
        "\n",
        "      df = feature_check(df)\n",
        "\n",
        "      #Move the dates back by 60 days\n",
        "      df_use_infer = dc(df)\n",
        "      use_date = max(df_use_infer['OCCUPANCY_DATE']) - pd.Timedelta(days = 60)\n",
        "      df_use_infer = df_use_infer[df_use_infer['OCCUPANCY_DATE'] <= use_date]\n",
        "\n",
        "      #Inferring Data\n",
        "      if shel_grouping is None:\n",
        "        df_infer = infer_date_(model, df_use_infer, scaler, n_future, future_days = 60, one_hot_feature = None)\n",
        "        df_infer_date = min(df_infer['OCCUPANCY_DATE'])\n",
        "        df_infer = df_infer[df_infer['OCCUPANCY_DATE'] > df_infer_date]\n",
        "      else:\n",
        "        df_infer = infer_date_(model, df_use_infer, scaler, n_future, future_days = 60, one_hot_feature = [shel_grouping[i], max(shel_grouping.values()) + 1])\n",
        "        df_infer_date = min(df_infer['OCCUPANCY_DATE'])\n",
        "        df_infer = df_infer[df_infer['OCCUPANCY_DATE'] > df_infer_date]\n",
        "\n",
        "      #Obtain and apply the multiplying factor\n",
        "      if adj_factors is not None:\n",
        "        mult = multiplying_factor(df_infer, df_mult, adj_factors)\n",
        "        df_infer['OCCUPIED_PERCENTAGE'] *= mult\n",
        "\n",
        "      #data used for loss calculations\n",
        "      df_loss = dc(df)\n",
        "      df_loss = df_loss[df_loss['OCCUPANCY_DATE'] > use_date]\n",
        "\n",
        "      #Calculating Loss\n",
        "      df_np = df_loss['OCCUPIED_PERCENTAGE'].values\n",
        "      df_np_infer = df_infer['OCCUPIED_PERCENTAGE'].values\n",
        "\n",
        "      temp_loss = 0\n",
        "      temp_loss_sq = 0\n",
        "      for i in range(len(df_np)):\n",
        "        temp_loss += abs(df_np[i] - df_np_infer[i])\n",
        "        temp_loss_sq += abs(df_np[i] - df_np_infer[i]) ** 2\n",
        "      if temp_loss > 0:\n",
        "        total_shel += 1\n",
        "        loss_ += temp_loss\n",
        "      if temp_loss_sq > 0:\n",
        "        total_shel_ += 1\n",
        "        loss_sq += temp_loss_sq\n",
        "      loss_ /= 60\n",
        "      loss_sq /= 60\n",
        "      loss_sq = loss_sq ** (1/2)\n",
        "\n",
        "\n",
        "  avg_loss = loss_/total_shel\n",
        "  avg_loss_sq = loss_sq/total_shel_\n",
        "  return avg_loss, avg_loss_sq"
      ]
    },
    {
      "cell_type": "markdown",
      "source": [
        "Function for adjustment factors in the two steps process"
      ],
      "metadata": {
        "id": "kJKeIeaOB9ax"
      }
    },
    {
      "cell_type": "code",
      "source": [
        "def calculate_adjustment_factors(dataset, city_predictions_df, feature):\n",
        "  '''\n",
        "  INPUTS:\n",
        "  dataset (DataFrame): This should include the entire dataset including predictions for each row. The dataset should include\n",
        "  the actual occupancy rate, column named 'OCCUPANCY_RATE'. The prediction column should be named 'CITY_PREDICTIONS'.\n",
        "\n",
        "  feature (String): The name of the feature. This feature should be in the dataset.\n",
        "\n",
        "  OUTPUT:\n",
        "  average_difference_by_feature (DataFrame): has two columns. One of them is named <feature> and has every category of that feature\n",
        "  (e.g. each sector type). The second column, named 'PERCENT_DIFF' contains the adjustment factors (percent devaition from the mean for each category)\n",
        "  '''\n",
        "  # Data Prep\n",
        "\n",
        "  dataset_prep = dataset\n",
        "\n",
        "  dataset_prep['DAY_OF_WEEK'] = dataset_prep['OCCUPANCY_DATE'].dt.dayofweek\n",
        "  dataset_prep['MONTH'] = dataset_prep['OCCUPANCY_DATE'].dt.month\n",
        "\n",
        "  dataset_prep = dataset_prep.groupby([feature, 'OCCUPANCY_DATE']).agg({\n",
        "      'OCCUPANCY_RATE': 'mean',\n",
        "      'DAY_OF_WEEK': 'first',  # since all entries per day should be the same\n",
        "      'MONTH': 'first'\n",
        "  }).reset_index()\n",
        "\n",
        "  dataset_prep = pd.merge(dataset_prep, city_predictions_df, on = 'OCCUPANCY_DATE', how='left')\n",
        "\n",
        "\n",
        "  dataset_with_percent_diff = pd.DataFrame()\n",
        "  dataset_with_percent_diff['PERCENT_DIFF'] = ((dataset_prep['OCCUPANCY_RATE'] - dataset_prep['CITY_PREDICTIONS']) / dataset_prep['CITY_PREDICTIONS']) * 100\n",
        "  dataset_with_percent_diff = pd.concat([dataset_with_percent_diff, dataset_prep], axis=1)\n",
        "  average_difference_by_feature = dataset_with_percent_diff.groupby(feature)['PERCENT_DIFF'].mean().reset_index()\n",
        "  return average_difference_by_feature"
      ],
      "metadata": {
        "id": "PbE3mLBoCA_P"
      },
      "execution_count": 22,
      "outputs": []
    },
    {
      "cell_type": "markdown",
      "source": [
        "Before we run the loop to find the test again, we also need to define the function that will calculate the multiplying factor for our prediction from the adjustment factors"
      ],
      "metadata": {
        "id": "qckKO8VmCLJc"
      }
    },
    {
      "cell_type": "code",
      "source": [
        "def multiplying_factor(pred, shel ,adj_factors):\n",
        "  mult = 1\n",
        "  for i in adj_factors:\n",
        "    adj =  (100 + float(adj_factors[i][adj_factors[i][i] == shel[i].iloc[0]]['PERCENT_DIFF'].iloc[0])) / 100\n",
        "    mult *= adj\n",
        "  return mult"
      ],
      "metadata": {
        "id": "WxKz9fJECLhT"
      },
      "execution_count": 23,
      "outputs": []
    },
    {
      "cell_type": "markdown",
      "metadata": {
        "id": "Qxxsdsec3cqx"
      },
      "source": [
        "Define Model's Hyperparameters"
      ]
    },
    {
      "cell_type": "code",
      "execution_count": 24,
      "metadata": {
        "id": "rroXOZGZ3kmK"
      },
      "outputs": [],
      "source": [
        "n_steps = 90\n",
        "n_future = 60\n",
        "batch_size = 16\n",
        "train_test_split = 0.75\n",
        "scaler = get_scaler()\n",
        "learning_rate = 1e-3\n",
        "num_epochs = 20\n",
        "train_test_split = 0.8\n",
        "loss_function = nn.MSELoss()\n",
        "hidden_size = 120\n",
        "num_stacked_layers = 3\n",
        "output_size = n_future"
      ]
    },
    {
      "cell_type": "markdown",
      "metadata": {
        "id": "JnKBrb9nuL4W"
      },
      "source": [
        "Extract a list of trainable features for testing. This list is selected from feature importance analysis."
      ]
    },
    {
      "cell_type": "code",
      "source": [
        "total_features = ['Snow on Grnd (cm)', 'Max Temp (Â°C)', 'Min Temp (Â°C)'] # With 'VALUE'"
      ],
      "metadata": {
        "id": "W9ppewQn-4ou"
      },
      "execution_count": 25,
      "outputs": []
    },
    {
      "cell_type": "markdown",
      "metadata": {
        "id": "Z7U71Wj709Aj"
      },
      "source": [
        "Loop to iterate through every combinations of trainable features inorder to test their effect on different Model's implementation."
      ]
    },
    {
      "cell_type": "code",
      "execution_count": 29,
      "metadata": {
        "id": "rs04rzrJ0x_m",
        "colab": {
          "base_uri": "https://localhost:8080/"
        },
        "outputId": "f1b79ab3-f695-4731-fd73-b0715872aa6b"
      },
      "outputs": [
        {
          "output_type": "stream",
          "name": "stdout",
          "text": [
            "Feature Set: ('Snow on Grnd (cm)',)\n",
            "In here skipping\n",
            "Feature Set: ('Max Temp (Â°C)',)\n",
            "In here skipping\n",
            "Feature Set: ('Min Temp (Â°C)',)\n",
            "In here skipping\n",
            "Feature Set: ('Snow on Grnd (cm)', 'Max Temp (Â°C)')\n",
            "In here skipping\n",
            "Feature Set: ('Snow on Grnd (cm)', 'Min Temp (Â°C)')\n",
            "In here skipping\n",
            "Feature Set: ('Max Temp (Â°C)', 'Min Temp (Â°C)')\n",
            "Combined Model Completes\n",
            "{('OCCUPANCY_DATE', 'VALUE', 'Snow on Grnd (cm)', 'OCCUPIED_PERCENTAGE'): {'Combined': [0.9279452745957633, 0.831306760166315], 'Distortions': [0.3499427771148763, 0.37266454347460376], 'Correlation': [0.4223990224441474, 0.4587405789472159]}, ('OCCUPANCY_DATE', 'VALUE', 'Max Temp (Â°C)', 'OCCUPIED_PERCENTAGE'): {'Combined': [1.1807491769248004, 1.0453521280386078], 'Distortions': [0.23778653369334063, 0.2638685870819413], 'Correlation': [0.15619930902909554, 0.14520505547992185]}, ('OCCUPANCY_DATE', 'VALUE', 'Min Temp (Â°C)', 'OCCUPIED_PERCENTAGE'): {'Combined': [1.2405781816691888, 1.0997838700440878], 'Distortions': [0.17378627772647537, 0.18487159845166642], 'Correlation': [0.838076736260515, 0.8519681246030345]}, ('OCCUPANCY_DATE', 'VALUE', 'Snow on Grnd (cm)', 'Max Temp (Â°C)', 'OCCUPIED_PERCENTAGE'): {'Combined': [0.8944873500911236, 0.7926913922399563], 'Distortions': [0.2537669479487362, 0.2803633859107141], 'Correlation': [1.185140834473136, 1.2037537455331968]}, ('OCCUPANCY_DATE', 'VALUE', 'Snow on Grnd (cm)', 'Min Temp (Â°C)', 'OCCUPIED_PERCENTAGE'): {'Combined': [0.9093500499774351, 0.8124775781973176], 'Distortions': [0.21822473227572736, 0.13586424560926097], 'Correlation': []}, ('OCCUPANCY_DATE', 'VALUE', 'Max Temp (Â°C)', 'Min Temp (Â°C)', 'OCCUPIED_PERCENTAGE'): {'Combined': [0.8541698315384967, 0.7638492819648718], 'Distortions': [], 'Correlation': []}}\n",
            "Distortions Grouping Model Completes\n",
            "{('OCCUPANCY_DATE', 'VALUE', 'Snow on Grnd (cm)', 'OCCUPIED_PERCENTAGE'): {'Combined': [0.9279452745957633, 0.831306760166315], 'Distortions': [0.3499427771148763, 0.37266454347460376], 'Correlation': [0.4223990224441474, 0.4587405789472159]}, ('OCCUPANCY_DATE', 'VALUE', 'Max Temp (Â°C)', 'OCCUPIED_PERCENTAGE'): {'Combined': [1.1807491769248004, 1.0453521280386078], 'Distortions': [0.23778653369334063, 0.2638685870819413], 'Correlation': [0.15619930902909554, 0.14520505547992185]}, ('OCCUPANCY_DATE', 'VALUE', 'Min Temp (Â°C)', 'OCCUPIED_PERCENTAGE'): {'Combined': [1.2405781816691888, 1.0997838700440878], 'Distortions': [0.17378627772647537, 0.18487159845166642], 'Correlation': [0.838076736260515, 0.8519681246030345]}, ('OCCUPANCY_DATE', 'VALUE', 'Snow on Grnd (cm)', 'Max Temp (Â°C)', 'OCCUPIED_PERCENTAGE'): {'Combined': [0.8944873500911236, 0.7926913922399563], 'Distortions': [0.2537669479487362, 0.2803633859107141], 'Correlation': [1.185140834473136, 1.2037537455331968]}, ('OCCUPANCY_DATE', 'VALUE', 'Snow on Grnd (cm)', 'Min Temp (Â°C)', 'OCCUPIED_PERCENTAGE'): {'Combined': [0.9093500499774351, 0.8124775781973176], 'Distortions': [0.21822473227572736, 0.13586424560926097], 'Correlation': []}, ('OCCUPANCY_DATE', 'VALUE', 'Max Temp (Â°C)', 'Min Temp (Â°C)', 'OCCUPIED_PERCENTAGE'): {'Combined': [0.8541698315384967, 0.7638492819648718], 'Distortions': [0.6076723124378717, 0.629551930384286], 'Correlation': []}}\n",
            "Correlation Grouping Model Completes\n",
            "{('OCCUPANCY_DATE', 'VALUE', 'Snow on Grnd (cm)', 'OCCUPIED_PERCENTAGE'): {'Combined': [0.9279452745957633, 0.831306760166315], 'Distortions': [0.3499427771148763, 0.37266454347460376], 'Correlation': [0.4223990224441474, 0.4587405789472159]}, ('OCCUPANCY_DATE', 'VALUE', 'Max Temp (Â°C)', 'OCCUPIED_PERCENTAGE'): {'Combined': [1.1807491769248004, 1.0453521280386078], 'Distortions': [0.23778653369334063, 0.2638685870819413], 'Correlation': [0.15619930902909554, 0.14520505547992185]}, ('OCCUPANCY_DATE', 'VALUE', 'Min Temp (Â°C)', 'OCCUPIED_PERCENTAGE'): {'Combined': [1.2405781816691888, 1.0997838700440878], 'Distortions': [0.17378627772647537, 0.18487159845166642], 'Correlation': [0.838076736260515, 0.8519681246030345]}, ('OCCUPANCY_DATE', 'VALUE', 'Snow on Grnd (cm)', 'Max Temp (Â°C)', 'OCCUPIED_PERCENTAGE'): {'Combined': [0.8944873500911236, 0.7926913922399563], 'Distortions': [0.2537669479487362, 0.2803633859107141], 'Correlation': [1.185140834473136, 1.2037537455331968]}, ('OCCUPANCY_DATE', 'VALUE', 'Snow on Grnd (cm)', 'Min Temp (Â°C)', 'OCCUPIED_PERCENTAGE'): {'Combined': [0.9093500499774351, 0.8124775781973176], 'Distortions': [0.21822473227572736, 0.13586424560926097], 'Correlation': []}, ('OCCUPANCY_DATE', 'VALUE', 'Max Temp (Â°C)', 'Min Temp (Â°C)', 'OCCUPIED_PERCENTAGE'): {'Combined': [0.8541698315384967, 0.7638492819648718], 'Distortions': [0.6076723124378717, 0.629551930384286], 'Correlation': [0.6042920436966117, 0.6239011120899587]}}\n",
            "\n",
            "\n",
            "\n",
            "Feature Set: ('Snow on Grnd (cm)', 'Max Temp (Â°C)', 'Min Temp (Â°C)')\n",
            "Combined Model Completes\n",
            "{('OCCUPANCY_DATE', 'VALUE', 'Snow on Grnd (cm)', 'OCCUPIED_PERCENTAGE'): {'Combined': [0.9279452745957633, 0.831306760166315], 'Distortions': [0.3499427771148763, 0.37266454347460376], 'Correlation': [0.4223990224441474, 0.4587405789472159]}, ('OCCUPANCY_DATE', 'VALUE', 'Max Temp (Â°C)', 'OCCUPIED_PERCENTAGE'): {'Combined': [1.1807491769248004, 1.0453521280386078], 'Distortions': [0.23778653369334063, 0.2638685870819413], 'Correlation': [0.15619930902909554, 0.14520505547992185]}, ('OCCUPANCY_DATE', 'VALUE', 'Min Temp (Â°C)', 'OCCUPIED_PERCENTAGE'): {'Combined': [1.2405781816691888, 1.0997838700440878], 'Distortions': [0.17378627772647537, 0.18487159845166642], 'Correlation': [0.838076736260515, 0.8519681246030345]}, ('OCCUPANCY_DATE', 'VALUE', 'Snow on Grnd (cm)', 'Max Temp (Â°C)', 'OCCUPIED_PERCENTAGE'): {'Combined': [0.8944873500911236, 0.7926913922399563], 'Distortions': [0.2537669479487362, 0.2803633859107141], 'Correlation': [1.185140834473136, 1.2037537455331968]}, ('OCCUPANCY_DATE', 'VALUE', 'Snow on Grnd (cm)', 'Min Temp (Â°C)', 'OCCUPIED_PERCENTAGE'): {'Combined': [0.9093500499774351, 0.8124775781973176], 'Distortions': [0.21822473227572736, 0.13586424560926097], 'Correlation': []}, ('OCCUPANCY_DATE', 'VALUE', 'Max Temp (Â°C)', 'Min Temp (Â°C)', 'OCCUPIED_PERCENTAGE'): {'Combined': [0.8541698315384967, 0.7638492819648718], 'Distortions': [0.6076723124378717, 0.629551930384286], 'Correlation': [0.6042920436966117, 0.6239011120899587]}, ('OCCUPANCY_DATE', 'VALUE', 'Snow on Grnd (cm)', 'Max Temp (Â°C)', 'Min Temp (Â°C)', 'OCCUPIED_PERCENTAGE'): {'Combined': [0.9350206964003478, 0.8371512758322925], 'Distortions': [], 'Correlation': []}}\n",
            "Distortions Grouping Model Completes\n",
            "{('OCCUPANCY_DATE', 'VALUE', 'Snow on Grnd (cm)', 'OCCUPIED_PERCENTAGE'): {'Combined': [0.9279452745957633, 0.831306760166315], 'Distortions': [0.3499427771148763, 0.37266454347460376], 'Correlation': [0.4223990224441474, 0.4587405789472159]}, ('OCCUPANCY_DATE', 'VALUE', 'Max Temp (Â°C)', 'OCCUPIED_PERCENTAGE'): {'Combined': [1.1807491769248004, 1.0453521280386078], 'Distortions': [0.23778653369334063, 0.2638685870819413], 'Correlation': [0.15619930902909554, 0.14520505547992185]}, ('OCCUPANCY_DATE', 'VALUE', 'Min Temp (Â°C)', 'OCCUPIED_PERCENTAGE'): {'Combined': [1.2405781816691888, 1.0997838700440878], 'Distortions': [0.17378627772647537, 0.18487159845166642], 'Correlation': [0.838076736260515, 0.8519681246030345]}, ('OCCUPANCY_DATE', 'VALUE', 'Snow on Grnd (cm)', 'Max Temp (Â°C)', 'OCCUPIED_PERCENTAGE'): {'Combined': [0.8944873500911236, 0.7926913922399563], 'Distortions': [0.2537669479487362, 0.2803633859107141], 'Correlation': [1.185140834473136, 1.2037537455331968]}, ('OCCUPANCY_DATE', 'VALUE', 'Snow on Grnd (cm)', 'Min Temp (Â°C)', 'OCCUPIED_PERCENTAGE'): {'Combined': [0.9093500499774351, 0.8124775781973176], 'Distortions': [0.21822473227572736, 0.13586424560926097], 'Correlation': []}, ('OCCUPANCY_DATE', 'VALUE', 'Max Temp (Â°C)', 'Min Temp (Â°C)', 'OCCUPIED_PERCENTAGE'): {'Combined': [0.8541698315384967, 0.7638492819648718], 'Distortions': [0.6076723124378717, 0.629551930384286], 'Correlation': [0.6042920436966117, 0.6239011120899587]}, ('OCCUPANCY_DATE', 'VALUE', 'Snow on Grnd (cm)', 'Max Temp (Â°C)', 'Min Temp (Â°C)', 'OCCUPIED_PERCENTAGE'): {'Combined': [0.9350206964003478, 0.8371512758322925], 'Distortions': [0.2713431884778311, 0.280809617610863], 'Correlation': []}}\n",
            "Correlation Grouping Model Completes\n",
            "{('OCCUPANCY_DATE', 'VALUE', 'Snow on Grnd (cm)', 'OCCUPIED_PERCENTAGE'): {'Combined': [0.9279452745957633, 0.831306760166315], 'Distortions': [0.3499427771148763, 0.37266454347460376], 'Correlation': [0.4223990224441474, 0.4587405789472159]}, ('OCCUPANCY_DATE', 'VALUE', 'Max Temp (Â°C)', 'OCCUPIED_PERCENTAGE'): {'Combined': [1.1807491769248004, 1.0453521280386078], 'Distortions': [0.23778653369334063, 0.2638685870819413], 'Correlation': [0.15619930902909554, 0.14520505547992185]}, ('OCCUPANCY_DATE', 'VALUE', 'Min Temp (Â°C)', 'OCCUPIED_PERCENTAGE'): {'Combined': [1.2405781816691888, 1.0997838700440878], 'Distortions': [0.17378627772647537, 0.18487159845166642], 'Correlation': [0.838076736260515, 0.8519681246030345]}, ('OCCUPANCY_DATE', 'VALUE', 'Snow on Grnd (cm)', 'Max Temp (Â°C)', 'OCCUPIED_PERCENTAGE'): {'Combined': [0.8944873500911236, 0.7926913922399563], 'Distortions': [0.2537669479487362, 0.2803633859107141], 'Correlation': [1.185140834473136, 1.2037537455331968]}, ('OCCUPANCY_DATE', 'VALUE', 'Snow on Grnd (cm)', 'Min Temp (Â°C)', 'OCCUPIED_PERCENTAGE'): {'Combined': [0.9093500499774351, 0.8124775781973176], 'Distortions': [0.21822473227572736, 0.13586424560926097], 'Correlation': []}, ('OCCUPANCY_DATE', 'VALUE', 'Max Temp (Â°C)', 'Min Temp (Â°C)', 'OCCUPIED_PERCENTAGE'): {'Combined': [0.8541698315384967, 0.7638492819648718], 'Distortions': [0.6076723124378717, 0.629551930384286], 'Correlation': [0.6042920436966117, 0.6239011120899587]}, ('OCCUPANCY_DATE', 'VALUE', 'Snow on Grnd (cm)', 'Max Temp (Â°C)', 'Min Temp (Â°C)', 'OCCUPIED_PERCENTAGE'): {'Combined': [0.9350206964003478, 0.8371512758322925], 'Distortions': [0.2713431884778311, 0.280809617610863], 'Correlation': [0.49269884449832124, 0.4683211338205423]}}\n",
            "\n",
            "\n",
            "\n",
            "{('OCCUPANCY_DATE', 'VALUE', 'Snow on Grnd (cm)', 'OCCUPIED_PERCENTAGE'): {'Combined': [0.9279452745957633, 0.831306760166315], 'Distortions': [0.3499427771148763, 0.37266454347460376], 'Correlation': [0.4223990224441474, 0.4587405789472159]}, ('OCCUPANCY_DATE', 'VALUE', 'Max Temp (Â°C)', 'OCCUPIED_PERCENTAGE'): {'Combined': [1.1807491769248004, 1.0453521280386078], 'Distortions': [0.23778653369334063, 0.2638685870819413], 'Correlation': [0.15619930902909554, 0.14520505547992185]}, ('OCCUPANCY_DATE', 'VALUE', 'Min Temp (Â°C)', 'OCCUPIED_PERCENTAGE'): {'Combined': [1.2405781816691888, 1.0997838700440878], 'Distortions': [0.17378627772647537, 0.18487159845166642], 'Correlation': [0.838076736260515, 0.8519681246030345]}, ('OCCUPANCY_DATE', 'VALUE', 'Snow on Grnd (cm)', 'Max Temp (Â°C)', 'OCCUPIED_PERCENTAGE'): {'Combined': [0.8944873500911236, 0.7926913922399563], 'Distortions': [0.2537669479487362, 0.2803633859107141], 'Correlation': [1.185140834473136, 1.2037537455331968]}, ('OCCUPANCY_DATE', 'VALUE', 'Snow on Grnd (cm)', 'Min Temp (Â°C)', 'OCCUPIED_PERCENTAGE'): {'Combined': [0.9093500499774351, 0.8124775781973176], 'Distortions': [0.21822473227572736, 0.13586424560926097], 'Correlation': []}, ('OCCUPANCY_DATE', 'VALUE', 'Max Temp (Â°C)', 'Min Temp (Â°C)', 'OCCUPIED_PERCENTAGE'): {'Combined': [0.8541698315384967, 0.7638492819648718], 'Distortions': [0.6076723124378717, 0.629551930384286], 'Correlation': [0.6042920436966117, 0.6239011120899587]}, ('OCCUPANCY_DATE', 'VALUE', 'Snow on Grnd (cm)', 'Max Temp (Â°C)', 'Min Temp (Â°C)', 'OCCUPIED_PERCENTAGE'): {'Combined': [0.9350206964003478, 0.8371512758322925], 'Distortions': [0.2713431884778311, 0.280809617610863], 'Correlation': [0.49269884449832124, 0.4683211338205423]}}\n"
          ]
        }
      ],
      "source": [
        "#Hashmap to store the result of each model with each feature set\n",
        "result_map = {}\n",
        "\n",
        "device = torch.device(\"cuda\")\n",
        "\n",
        "#unify citywide output\n",
        "copy_df = dc(dataframe)\n",
        "copy_df['OCCUPANCY_RATE'] = np.where(copy_df['OCCUPANCY_RATE_BEDS'].isna(),\n",
        "                                       copy_df['OCCUPANCY_RATE_ROOMS'],\n",
        "                                       copy_df['OCCUPANCY_RATE_BEDS'])\n",
        "\n",
        "result_map = {('OCCUPANCY_DATE', 'VALUE', 'Snow on Grnd (cm)', 'OCCUPIED_PERCENTAGE'): {'Combined': [0.9279452745957633, 0.831306760166315], 'Distortions': [0.3499427771148763, 0.37266454347460376], 'Correlation': [0.4223990224441474, 0.4587405789472159]}, ('OCCUPANCY_DATE', 'VALUE', 'Max Temp (Â°C)', 'OCCUPIED_PERCENTAGE'): {'Combined': [1.1807491769248004, 1.0453521280386078], 'Distortions': [0.23778653369334063, 0.2638685870819413], 'Correlation': [0.15619930902909554, 0.14520505547992185]}, ('OCCUPANCY_DATE', 'VALUE', 'Min Temp (Â°C)', 'OCCUPIED_PERCENTAGE'): {'Combined': [1.2405781816691888, 1.0997838700440878], 'Distortions': [0.17378627772647537, 0.18487159845166642], 'Correlation': [0.838076736260515, 0.8519681246030345]}, ('OCCUPANCY_DATE', 'VALUE', 'Snow on Grnd (cm)', 'Max Temp (Â°C)', 'OCCUPIED_PERCENTAGE'): {'Combined': [0.8944873500911236, 0.7926913922399563], 'Distortions': [0.2537669479487362, 0.2803633859107141], 'Correlation': [1.185140834473136, 1.2037537455331968]}, ('OCCUPANCY_DATE', 'VALUE', 'Snow on Grnd (cm)', 'Min Temp (Â°C)', 'OCCUPIED_PERCENTAGE'): {'Combined': [0.9093500499774351, 0.8124775781973176], 'Distortions': [0.21822473227572736, 0.13586424560926097], 'Correlation': []}}\n",
        "\n",
        "# Loop through all possible combinations of elements in the list\n",
        "for r in range(1, len(total_features) + 1):\n",
        "    for features_used in combinations(total_features, r):\n",
        "\n",
        "      print(\"Feature Set: \" + str(features_used))\n",
        "\n",
        "\n",
        "\n",
        "\n",
        "      #Combine feature_used with date and output feature\n",
        "      features_used = list(features_used)\n",
        "      features_used.insert(0, 'OCCUPANCY_DATE')\n",
        "      features_used.insert(1, 'VALUE')\n",
        "      features_used.append('OCCUPIED_PERCENTAGE')\n",
        "\n",
        "      if tuple(features_used) in result_map:\n",
        "        print(\"In here skipping\")\n",
        "        continue\n",
        "\n",
        "      result_map[tuple(features_used)] = {'Combined' : [], 'Distortions' : [], 'Correlation': []}\n",
        "\n",
        "      #Build the dataframe\n",
        "      df = feature_check(merge_Shelters_Data(dc(dataframe))[features_used])\n",
        "\n",
        "      #----------------Combined Shelter Multivariate Model----------------#\n",
        "\n",
        "      #Converting the dataframe into dataloader\n",
        "      combined_train, combined_test = time_series_converter(dc(df), scaler, n_steps, n_future, train_test_split, batch_size, features_used, shel_group = None)\n",
        "\n",
        "      #Define the model\n",
        "      input_size = len(features_used) - 1\n",
        "      model_combined = LSTM(input_size, hidden_size, num_stacked_layers, output_size)\n",
        "      model_combined.to(device)\n",
        "      optimizer_combined = torch.optim.AdamW(model_combined.parameters(), lr = learning_rate)\n",
        "\n",
        "      #Zeroing out the optimizer and randomized the weights of the model\n",
        "      optimizer_combined.zero_grad()\n",
        "      reset_weights(model_combined)\n",
        "\n",
        "      #Begin training\n",
        "      model_combined, training_loss, valid_loss, avg_valid_loss = begin_training(model_combined, num_epochs, combined_train, combined_test, loss_function, optimizer_combined, device)\n",
        "      print(\"Combined Model Completes\")\n",
        "\n",
        "      #Calculate loss\n",
        "      comb_loss, comb_loss_sq = calc_loss(model_combined, test_data, features_used)\n",
        "      result_map[tuple(features_used)]['Combined'].append(comb_loss_sq)\n",
        "\n",
        "      #--Two Steps Approach--#\n",
        "      #Get the dataframe of the city\n",
        "      city_wide_df = merge_Shelters_Data(dataframe)[features_used]\n",
        "      max_date = city_wide_df['OCCUPANCY_DATE'].max() - pd.Timedelta(days=n_future)\n",
        "      city_wide_df = city_wide_df[city_wide_df[\"OCCUPANCY_DATE\"] <= max_date]\n",
        "\n",
        "      #infer city wide data from model\n",
        "      city_pred = infer_date_(model_combined, city_wide_df, scaler, n_future, future_days = 60, one_hot_feature = None)\n",
        "      city_pred = city_pred.rename(columns={'OCCUPIED_PERCENTAGE': 'CITY_PREDICTIONS'})\n",
        "\n",
        "      #Get the adjustment factors\n",
        "      adj_factors = {}\n",
        "      adjusted_features = ['SECTOR']\n",
        "      for i in adjusted_features:\n",
        "        adj_factors[i] = calculate_adjustment_factors(copy_df, city_pred, i)\n",
        "\n",
        "      #Calculate loss Using 2 steps\n",
        "      loss, loss_sq = calc_loss(model_combined, test_data.copy(), features_used, adj_factors = adj_factors)\n",
        "      result_map[tuple(features_used)]['Combined'].append(loss_sq)\n",
        "      print(result_map)\n",
        "\n",
        "\n",
        "      #----------------Distortion Location Grouping Multivariate Model----------------#\n",
        "      distortion_grouping = {11794: 2, 11798: 2, 11799: 2, 11815: 3, 11831: 2, 11871: 2, 11891: 2, 11895: 2, 11911: 1, 11971: 2, 12011: 2, 12053: 2, 12231: 2, 12251: 2, 12252: 0, 12254: 3, 12274: 1, 12291: 0, 12292: 0, 12471: 2, 12711: 2, 13451: 2, 13932: 1, 14051: 3, 14251: 2, 14571: 0, 14572: 0, 14631: 2, 14651: 2, 14671: 2, 14931: 2, 15111: 1, 15112: 1, 15171: 2, 15711: 2, 15811: 3, 15871: 3, 16111: 0, 16131: 2, 16151: 2, 16191: 3, 16192: 3, 16193: 3, 16194: 1, 16271: 3, 16311: 3, 16371: 2, 16671: 3, 16691: 3, 16891: 0, 16892: 0, 16911: 1, 17011: 3, 17012: 3, 17191: 1, 17211: 3, 17212: 3, 17691: 1, 17771: 1, 17772: 1, 17791: 1, 17811: 1}\n",
        "\n",
        "      #Converting the dataframe into dataloader\n",
        "      dist_train, dist_test = time_series_converter(iso_data.copy(), scaler, n_steps, n_future, train_test_split, batch_size, features_used, distortion_grouping)\n",
        "\n",
        "      #Define the Model\n",
        "      input_size = len(features_used) + max(distortion_grouping.values())\n",
        "      model_dist = LSTM(input_size, hidden_size, num_stacked_layers, output_size)\n",
        "      model_dist.to(device)\n",
        "      optimizer_dist = torch.optim.AdamW(model_dist.parameters(), lr = learning_rate)\n",
        "\n",
        "      #Zeroing out the optimizer and randomized the weights of the model\n",
        "      optimizer_dist.zero_grad()\n",
        "      reset_weights(model_dist)\n",
        "\n",
        "      #Begin training\n",
        "      model_dist, training_loss, valid_loss, avg_valid_loss = begin_training(model_dist, num_epochs, dist_train, dist_test, loss_function, optimizer_dist, device)\n",
        "      print(\"Distortions Grouping Model Completes\")\n",
        "\n",
        "      #Calculate loss\n",
        "      dist_loss, dist_loss_sq = calc_loss(model_dist, test_data, features_used, distortion_grouping)\n",
        "      result_map[tuple(features_used)]['Distortions'].append(dist_loss_sq)\n",
        "\n",
        "      #--Two Steps Approach--#\n",
        "      #Get the dataframe of the city\n",
        "      city_wide_df = merge_Shelters_Data(dataframe)[features_used]\n",
        "      max_date = city_wide_df['OCCUPANCY_DATE'].max() - pd.Timedelta(days=n_future)\n",
        "      city_wide_df = city_wide_df[city_wide_df[\"OCCUPANCY_DATE\"] <= max_date]\n",
        "\n",
        "      #Add grouping scheme to city dataframe\n",
        "      for i in range(max(distortion_grouping.values()) + 1):\n",
        "        str_ = \"Feature_\" + str(i)\n",
        "        city_wide_df.insert(0, str_, 1)\n",
        "\n",
        "      #infer city wide data from model\n",
        "      city_pred = infer_date_(model_dist, city_wide_df, scaler, n_future, future_days = 60, one_hot_feature = None)\n",
        "      city_pred = city_pred.rename(columns={'OCCUPIED_PERCENTAGE': 'CITY_PREDICTIONS'})\n",
        "\n",
        "      #Get the adjustment factors\n",
        "      adj_factors = {}\n",
        "      adjusted_features = ['SECTOR']\n",
        "      for i in adjusted_features:\n",
        "        adj_factors[i] = calculate_adjustment_factors(copy_df, city_pred, i)\n",
        "\n",
        "      #Calculate loss\n",
        "      loss, loss_sq = calc_loss(model_dist, test_data.copy(), features_used, distortion_grouping, adj_factors = adj_factors)\n",
        "      result_map[tuple(features_used)]['Distortions'].append(loss_sq)\n",
        "      print(result_map)\n",
        "\n",
        "      #----------------Correlation Location Grouping Multivariate Model----------------#\n",
        "      correlation_grouping = {11794: 3, 11798: 1, 11799: 1, 11815: 0, 11831: 1, 11871: 3, 11891: 1, 11895: 1, 11911: 7, 11971: 3, 12011: 2, 12053: 2, 12231: 2, 12251: 1, 12252: 5, 12254: 0, 12274: 7, 12291: 6, 12292: 6, 12471: 1, 12711: 1, 13451: 3, 13932: 7, 14051: 6, 14251: 1, 14571: 6, 14572: 6, 14631: 1, 14651: 3, 14671: 3, 14931: 1, 15111: 7, 15112: 7, 15171: 2, 15711: 2, 15811: 6, 15871: 6, 16111: 6, 16131: 1, 16151: 1, 16191: 4, 16192: 4, 16193: 4, 16194: 7, 16271: 4, 16311: 4, 16371: 3, 16671: 4, 16691: 4, 16891: 4, 16892: 4, 16911: 7, 17011: 4, 17012: 4, 17191: 7, 17211: 6, 17212: 6, 17691: 7, 17771: 7, 17772: 7, 17791: 7, 17811: 7}\n",
        "\n",
        "      #Converting the dataframe into dataloader\n",
        "      corr_train, corr_test = time_series_converter(iso_data.copy(), scaler, n_steps, n_future, train_test_split, batch_size, features_used, correlation_grouping)\n",
        "\n",
        "      #Define the Model\n",
        "      input_size = len(features_used) + max(correlation_grouping.values())\n",
        "      model_corr = LSTM(input_size, hidden_size, num_stacked_layers, output_size)\n",
        "      model_corr.to(device)\n",
        "      optimizer_corr = torch.optim.AdamW(model_corr.parameters(), lr = learning_rate)\n",
        "\n",
        "      #Zeroing out the optimizer and randomized the weights of the model\n",
        "      optimizer_corr.zero_grad()\n",
        "      reset_weights(model_corr)\n",
        "\n",
        "      #Begin training\n",
        "      model_corr, training_loss, valid_loss, avg_valid_loss = begin_training(model_corr, num_epochs, corr_train, corr_test, loss_function, optimizer_corr, device)\n",
        "      print(\"Correlation Grouping Model Completes\")\n",
        "\n",
        "      #Calculate loss\n",
        "      corr_loss, corr_loss_sq = calc_loss(model_corr, test_data.copy(), features_used, correlation_grouping)\n",
        "      result_map[tuple(features_used)]['Correlation'].append(corr_loss_sq)\n",
        "\n",
        "      #--Two Steps Approach--#\n",
        "      #Get the dataframe of the city\n",
        "      city_wide_df = merge_Shelters_Data(dataframe)[features_used]\n",
        "      max_date = city_wide_df['OCCUPANCY_DATE'].max() - pd.Timedelta(days=n_future)\n",
        "      city_wide_df = city_wide_df[city_wide_df[\"OCCUPANCY_DATE\"] <= max_date]\n",
        "\n",
        "      #Add grouping scheme to city dataframe\n",
        "      for i in range(max(correlation_grouping.values()) + 1):\n",
        "        str_ = \"Feature_\" + str(i)\n",
        "        city_wide_df.insert(0, str_, 1)\n",
        "\n",
        "      #infer city wide data from model\n",
        "      city_pred = infer_date_(model_corr, city_wide_df, scaler, n_future, future_days = 60, one_hot_feature = None)\n",
        "      city_pred = city_pred.rename(columns={'OCCUPIED_PERCENTAGE': 'CITY_PREDICTIONS'})\n",
        "\n",
        "      #Get the adjustment factors\n",
        "      adj_factors = {}\n",
        "      adjusted_features = ['SECTOR']\n",
        "      for i in adjusted_features:\n",
        "        adj_factors[i] = calculate_adjustment_factors(copy_df, city_pred, i)\n",
        "\n",
        "      #Calculate loss\n",
        "      loss, loss_sq = calc_loss(model_corr, test_data.copy(), features_used, correlation_grouping, adj_factors = adj_factors)\n",
        "      result_map[tuple(features_used)]['Correlation'].append(loss_sq)\n",
        "      print(result_map)\n",
        "\n",
        "      print('\\n\\n')\n",
        "\n",
        "print(result_map)"
      ]
    },
    {
      "cell_type": "code",
      "source": [
        "result_map = {('OCCUPANCY_DATE', 'VALUE', 'Snow on Grnd (cm)', 'OCCUPIED_PERCENTAGE'): {'Combined': [0.9279452745957633, 0.831306760166315], 'Distortions': [0.3499427771148763, 0.37266454347460376], 'Correlation': [0.4223990224441474, 0.4587405789472159]}, ('OCCUPANCY_DATE', 'VALUE', 'Max Temp (Â°C)', 'OCCUPIED_PERCENTAGE'): {'Combined': [1.1807491769248004, 1.0453521280386078], 'Distortions': [0.23778653369334063, 0.2638685870819413], 'Correlation': [0.15619930902909554, 0.14520505547992185]}, ('OCCUPANCY_DATE', 'VALUE', 'Min Temp (Â°C)', 'OCCUPIED_PERCENTAGE'): {'Combined': [1.2405781816691888, 1.0997838700440878], 'Distortions': [0.17378627772647537, 0.18487159845166642], 'Correlation': [0.838076736260515, 0.8519681246030345]}, ('OCCUPANCY_DATE', 'VALUE', 'Snow on Grnd (cm)', 'Max Temp (Â°C)', 'OCCUPIED_PERCENTAGE'): {'Combined': [0.8944873500911236, 0.7926913922399563], 'Distortions': [0.2537669479487362, 0.2803633859107141], 'Correlation': [1.185140834473136, 1.2037537455331968]}, ('OCCUPANCY_DATE', 'VALUE', 'Snow on Grnd (cm)', 'Min Temp (Â°C)', 'OCCUPIED_PERCENTAGE'): {'Combined': [0.9093500499774351, 0.8124775781973176], 'Distortions': [0.21822473227572736, 0.13586424560926097], 'Correlation': [1.185140834473136, 1.2037537455331968]}, ('OCCUPANCY_DATE', 'VALUE', 'Max Temp (Â°C)', 'Min Temp (Â°C)', 'OCCUPIED_PERCENTAGE'): {'Combined': [0.8541698315384967, 0.7638492819648718], 'Distortions': [0.6076723124378717, 0.629551930384286], 'Correlation': [0.6042920436966117, 0.6239011120899587]}, ('OCCUPANCY_DATE', 'VALUE', 'Snow on Grnd (cm)', 'Max Temp (Â°C)', 'Min Temp (Â°C)', 'OCCUPIED_PERCENTAGE'): {'Combined': [0.9350206964003478, 0.8371512758322925], 'Distortions': [0.2713431884778311, 0.280809617610863], 'Correlation': [0.49269884449832124, 0.4683211338205423]}}\n",
        "#[1.185140834473136, 1.2037537455331968]"
      ],
      "metadata": {
        "id": "7d2UPFMOZQgv"
      },
      "execution_count": 30,
      "outputs": []
    },
    {
      "cell_type": "markdown",
      "source": [
        "The last step is to find which feature set is best for which model implementation"
      ],
      "metadata": {
        "id": "w9bKLatAWiFx"
      }
    },
    {
      "cell_type": "code",
      "source": [
        "combined_hash = {}\n",
        "dist_hash = {}\n",
        "corr_hash = {}\n",
        "best_feat = {}\n",
        "for i in result_map.copy():\n",
        "  #print(\"Losses for features\" + str(i))\n",
        "\n",
        "  combined_hash[result_map[i]['Combined'][0]] = i\n",
        "  dist_hash[result_map[i]['Distortions'][0]] = i\n",
        "  corr_hash[result_map[i]['Correlation'][0]] = i\n",
        "\n",
        "best_feat['Combined'] = combined_hash[min(combined_hash)]\n",
        "best_feat['Distortions'] = dist_hash[min(dist_hash)]\n",
        "best_feat['Correlation'] = corr_hash[min(corr_hash)]\n",
        "\n",
        "print(best_feat)"
      ],
      "metadata": {
        "id": "CTywTIQnWpNn",
        "colab": {
          "base_uri": "https://localhost:8080/"
        },
        "outputId": "e48caf06-1ebf-4f30-adbf-6c00dc0e791f"
      },
      "execution_count": 31,
      "outputs": [
        {
          "output_type": "stream",
          "name": "stdout",
          "text": [
            "{'Combined': ('OCCUPANCY_DATE', 'VALUE', 'Max Temp (Â°C)', 'Min Temp (Â°C)', 'OCCUPIED_PERCENTAGE'), 'Distortions': ('OCCUPANCY_DATE', 'VALUE', 'Min Temp (Â°C)', 'OCCUPIED_PERCENTAGE'), 'Correlation': ('OCCUPANCY_DATE', 'VALUE', 'Max Temp (Â°C)', 'OCCUPIED_PERCENTAGE')}\n"
          ]
        }
      ]
    },
    {
      "cell_type": "markdown",
      "source": [
        "Loop through the graphs to display the best features set for each graph type"
      ],
      "metadata": {
        "id": "h2mtdHk-eeyn"
      }
    },
    {
      "cell_type": "code",
      "source": [
        "# Define the categories on the x-axis\n",
        "categories = ['Univariate (Baseline)', 'City-wide Multivariate', 'Distortion Grouping', 'Correlation Grouping']\n",
        "bar_width = 0.35\n",
        "\n",
        "# Define the x positions for the bars\n",
        "x = np.arange(len(categories))\n",
        "\n",
        "for i in best_feat.copy():\n",
        "  plt.figure(figsize=(9, 5))\n",
        "\n",
        "  print(\"Best Set of features for \" + str(i)+  \": \" + str(best_feat[i]))\n",
        "  pre_multi_step_ls = [result_map[best_feat[i]][z][0] for z in result_map[best_feat[i]]]\n",
        "  pre_multi_step_ls.insert(0, 10.661561143926528)\n",
        "\n",
        "  multi_step_ls = [result_map[best_feat[i]][z][1] for z in result_map[best_feat[i]]]\n",
        "  multi_step_ls.insert(0, 8.203336997008627)\n",
        "\n",
        "  plt.bar(x - bar_width/2, pre_multi_step_ls, bar_width, label='Bar 1')\n",
        "  plt.bar(x + bar_width/2, multi_step_ls, bar_width, label='Bar 2')\n",
        "\n",
        "  feat = \"\"\n",
        "  for l in best_feat[i]:\n",
        "    feat += str(l) + \", \"\n",
        "\n",
        "  plt.xlabel('Model Implementation')\n",
        "  plt.ylabel('Loss')\n",
        "  plt.title('Loss for Feature Set ' + str(feat))\n",
        "  plt.xticks(x, categories)\n",
        "  plt.legend()\n",
        "\n",
        "  # Show the plot\n",
        "  plt.show()\n",
        "\n",
        "  print('\\n\\n')"
      ],
      "metadata": {
        "id": "tFx3ZlPvemcJ",
        "colab": {
          "base_uri": "https://localhost:8080/",
          "height": 1000
        },
        "outputId": "da5895f7-153d-4e05-c7e4-b6ccb1ed0200"
      },
      "execution_count": 32,
      "outputs": [
        {
          "output_type": "stream",
          "name": "stdout",
          "text": [
            "Best Set of features for Combined: ('OCCUPANCY_DATE', 'VALUE', 'Max Temp (Â°C)', 'Min Temp (Â°C)', 'OCCUPIED_PERCENTAGE')\n"
          ]
        },
        {
          "output_type": "display_data",
          "data": {
            "text/plain": [
              "<Figure size 900x500 with 1 Axes>"
            ],
            "image/png": "[encoded data removed]"
          },
          "metadata": {}
        },
        {
          "output_type": "stream",
          "name": "stdout",
          "text": [
            "\n",
            "\n",
            "\n",
            "Best Set of features for Distortions: ('OCCUPANCY_DATE', 'VALUE', 'Min Temp (Â°C)', 'OCCUPIED_PERCENTAGE')\n"
          ]
        },
        {
          "output_type": "display_data",
          "data": {
            "text/plain": [
              "<Figure size 900x500 with 1 Axes>"
            ],
            "image/png": "[encoded data removed]"
          },
          "metadata": {}
        },
        {
          "output_type": "stream",
          "name": "stdout",
          "text": [
            "\n",
            "\n",
            "\n",
            "Best Set of features for Correlation: ('OCCUPANCY_DATE', 'VALUE', 'Max Temp (Â°C)', 'OCCUPIED_PERCENTAGE')\n"
          ]
        },
        {
          "output_type": "display_data",
          "data": {
            "text/plain": [
              "<Figure size 900x500 with 1 Axes>"
            ],
            "image/png": "[encoded data removed]"
          },
          "metadata": {}
        },
        {
          "output_type": "stream",
          "name": "stdout",
          "text": [
            "\n",
            "\n",
            "\n"
          ]
        }
      ]
    }
  ],
  "metadata": {
    "colab": {
      "provenance": [],
      "gpuType": "T4"
    },
    "kernelspec": {
      "display_name": "Python 3",
      "name": "python3"
    },
    "language_info": {
      "name": "python"
    },
    "accelerator": "GPU"
  },
  "nbformat": 4,
  "nbformat_minor": 0
}