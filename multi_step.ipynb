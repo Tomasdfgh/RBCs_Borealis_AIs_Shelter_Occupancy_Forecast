{
  "nbformat": 4,
  "nbformat_minor": 0,
  "metadata": {
    "colab": {
      "provenance": []
    },
    "kernelspec": {
      "name": "python3",
      "display_name": "Python 3"
    },
    "language_info": {
      "name": "python"
    }
  },
  "cells": [
    {
      "cell_type": "markdown",
      "source": [
        "# Multi-Step Machine Learning Approach\n",
        "In this file, we build a model with multiple steps. This multi-tiered approach allows us to tackle the problem from a macro (city-wide) level and then drill down to micro factors influencing individual or grouped shelter demands.\n",
        "\n",
        "\n",
        "I am thinking we should use SARIMA for the the initial model (just predicting the overall shelter demand). Then, we can create regression models for each subgroup (e.g., postal code, organization) that predict the deviation from the city-wide average based on historical data."
      ],
      "metadata": {
        "id": "txyUWVTYqM0X"
      }
    },
    {
      "cell_type": "markdown",
      "source": [
        "## Imports"
      ],
      "metadata": {
        "id": "L-N2ozYAqTH8"
      }
    },
    {
      "cell_type": "code",
      "execution_count": null,
      "metadata": {
        "id": "2X0KcAWUqEnh"
      },
      "outputs": [],
      "source": [
        "import pandas as pd\n",
        "from sklearn.preprocessing import OneHotEncoder, LabelEncoder\n",
        "from sklearn.model_selection import train_test_split\n",
        "from sklearn.preprocessing import StandardScaler\n",
        "import matplotlib.pyplot as plt\n",
        "from sklearn.metrics import mean_absolute_error, mean_squared_error\n",
        "import numpy as np"
      ]
    },
    {
      "cell_type": "code",
      "source": [
        "from google.colab import drive\n",
        "drive.mount('/content/drive')"
      ],
      "metadata": {
        "colab": {
          "base_uri": "https://localhost:8080/"
        },
        "id": "3nbccAJQdYU7",
        "outputId": "fdece4cc-711b-4144-e05b-37f1026192b3"
      },
      "execution_count": null,
      "outputs": [
        {
          "output_type": "stream",
          "name": "stdout",
          "text": [
            "Mounted at /content/drive\n"
          ]
        }
      ]
    },
    {
      "cell_type": "markdown",
      "source": [
        "## Data"
      ],
      "metadata": {
        "id": "x-N0NkzGqgHN"
      }
    },
    {
      "cell_type": "markdown",
      "source": [
        "### Shelter Data"
      ],
      "metadata": {
        "id": "EnN0rbYNqhC_"
      }
    },
    {
      "cell_type": "code",
      "source": [
        "# for india\n",
        "shelter_paths = ['/content/drive/MyDrive/Colab Notebooks/Borealis Project/daily-shelter-overnight-service-occupancy-capacity-2021.csv', '/content/drive/MyDrive/Colab Notebooks/Borealis Project/daily-shelter-overnight-service-occupancy-capacity-2022.csv', '/content/drive/MyDrive/Colab Notebooks/Borealis Project/daily-shelter-overnight-service-occupancy-capacity-2023.csv']\n",
        "\n",
        "# # for nida\n",
        "# shelter_paths = ['/content/drive/MyDrive/Datasets/daily-shelter-overnight-service-occupancy-capacity-2021.csv', '/content/drive/MyDrive/Datasets/daily-shelter-overnight-service-occupancy-capacity-2022.csv', '/content/drive/MyDrive/Datasets/daily-shelter-overnight-service-occupancy-capacity-2023.csv']\n",
        "\n",
        "\n",
        "dataframes = [pd.read_csv(file) for file in shelter_paths]\n",
        "\n",
        "# Load each file and verify its contents\n",
        "for file in shelter_paths:\n",
        "    try:\n",
        "        df = pd.read_csv(file)\n",
        "        if df.empty:\n",
        "            print(f\"The file at {file} is empty.\")\n",
        "        else:\n",
        "            print(f\"Loaded {len(df)} rows from {file}\")\n",
        "            dataframes.append(df)\n",
        "    except FileNotFoundError:\n",
        "        print(f\"No file found at {file}\")\n",
        "    except pd.errors.EmptyDataError:\n",
        "        print(f\"File at {file} is empty or corrupted.\")\n",
        "\n",
        "# If all DataFrames are loaded correctly, concatenate them into one\n",
        "if dataframes:\n",
        "    combined_df = pd.concat(dataframes, ignore_index=True)\n",
        "    print(f\"The combined dataframe has {len(combined_df)} rows.\")\n",
        "else:\n",
        "    print(\"No data has been loaded. Please check the file paths and contents.\")"
      ],
      "metadata": {
        "colab": {
          "base_uri": "https://localhost:8080/"
        },
        "id": "XWHvYW1zqiSg",
        "outputId": "537e1bc2-ce67-4d09-ffaa-013b805022bc"
      },
      "execution_count": null,
      "outputs": [
        {
          "output_type": "stream",
          "name": "stdout",
          "text": [
            "Loaded 50944 rows from /content/drive/MyDrive/Colab Notebooks/Borealis Project/daily-shelter-overnight-service-occupancy-capacity-2021.csv\n",
            "Loaded 49478 rows from /content/drive/MyDrive/Colab Notebooks/Borealis Project/daily-shelter-overnight-service-occupancy-capacity-2022.csv\n",
            "Loaded 48345 rows from /content/drive/MyDrive/Colab Notebooks/Borealis Project/daily-shelter-overnight-service-occupancy-capacity-2023.csv\n",
            "The combined dataframe has 297534 rows.\n"
          ]
        }
      ]
    },
    {
      "cell_type": "markdown",
      "source": [
        "## SARIMA Modelling\n",
        "\n",
        "**Background**\n",
        "\n",
        "SARIMA stands for Seasonal AutoRegressive Integrated Moving Average. It is an extension of ARIMA that supports univariate time series data with a seasonal component. The model is specified with the notations SARIMA(p, d, q)(P, D, Q)m, where:\n",
        "\n",
        "    * p: Order of the autoregressive part.\n",
        "    * d: Degree of first differencing involved.\n",
        "    * q: Order of the moving average part.\n",
        "    * P: Seasonal autoregressive order.\n",
        "    * D: Seasonal difference order.\n",
        "    * Q: Seasonal moving average order.\n",
        "    * m: The number of time steps for a single seasonal period."
      ],
      "metadata": {
        "id": "crIv64U3tes3"
      }
    },
    {
      "cell_type": "code",
      "source": [
        "from statsmodels.tsa.statespace.sarimax import SARIMAX\n",
        "from statsmodels.tsa.seasonal import seasonal_decompose"
      ],
      "metadata": {
        "id": "QW5aw-kJuToG"
      },
      "execution_count": null,
      "outputs": []
    },
    {
      "cell_type": "markdown",
      "source": [
        "### Data Preparation"
      ],
      "metadata": {
        "id": "z7nF2_tXthL2"
      }
    },
    {
      "cell_type": "code",
      "source": [
        "combined_df = combined_df.dropna(subset=['CAPACITY_TYPE'])\n",
        "\n",
        "combined_total_df = combined_df\n",
        "combined_total_df['OCCUPANCY_RATE'] = np.where(combined_df['OCCUPANCY_RATE_BEDS'].isna(),\n",
        "                                       combined_df['OCCUPANCY_RATE_ROOMS'],\n",
        "                                       combined_df['OCCUPANCY_RATE_BEDS'])"
      ],
      "metadata": {
        "id": "MZ25qpPtqrP9"
      },
      "execution_count": null,
      "outputs": []
    },
    {
      "cell_type": "code",
      "source": [
        "# Extract year, month, and day as separate features\n",
        "combined_total_df['OCCUPANCY_DATE'] = pd.to_datetime(combined_total_df['OCCUPANCY_DATE'],format='mixed')\n",
        "combined_total_df['YEAR'] = combined_total_df['OCCUPANCY_DATE'].dt.year\n",
        "combined_total_df['MONTH'] = combined_total_df['OCCUPANCY_DATE'].dt.month\n",
        "combined_total_df['DAY'] = combined_total_df['OCCUPANCY_DATE'].dt.day"
      ],
      "metadata": {
        "id": "t9gSzU6turpU"
      },
      "execution_count": null,
      "outputs": []
    },
    {
      "cell_type": "code",
      "source": [
        "daily_city_average = combined_total_df.groupby('OCCUPANCY_DATE')['OCCUPANCY_RATE'].mean().reset_index()\n",
        "print(daily_city_average.head())"
      ],
      "metadata": {
        "colab": {
          "base_uri": "https://localhost:8080/"
        },
        "id": "IfihdG1Htb4e",
        "outputId": "668f3b62-d105-4ba6-bbb8-82dad9add3e6"
      },
      "execution_count": null,
      "outputs": [
        {
          "output_type": "stream",
          "name": "stdout",
          "text": [
            "  OCCUPANCY_DATE  OCCUPANCY_RATE\n",
            "0     2021-01-01       93.056809\n",
            "1     2021-01-02       93.206667\n",
            "2     2021-01-03       92.847589\n",
            "3     2021-01-04       92.394965\n",
            "4     2021-01-05       92.289859\n"
          ]
        }
      ]
    },
    {
      "cell_type": "markdown",
      "source": [
        "### Model"
      ],
      "metadata": {
        "id": "nbdAZKmPxYyX"
      }
    },
    {
      "cell_type": "code",
      "source": [
        "daily_city_average.set_index('OCCUPANCY_DATE', inplace=True)\n",
        "daily_city_average.index = pd.to_datetime(daily_city_average.index)\n",
        "\n",
        "y = daily_city_average['OCCUPANCY_RATE'] # Target Variable: OCCUPANCY RATE\n",
        "\n",
        "decomposition = seasonal_decompose(y, model='additive')\n",
        "decomposition.plot()\n",
        "plt.show()"
      ],
      "metadata": {
        "colab": {
          "base_uri": "https://localhost:8080/",
          "height": 201
        },
        "id": "jYarkFk_uETf",
        "outputId": "5b0a2bad-1480-43ec-9c1a-33ed184232cc"
      },
      "execution_count": null,
      "outputs": [
        {
          "output_type": "error",
          "ename": "NameError",
          "evalue": "name 'seasonal_decompose' is not defined",
          "traceback": [
            "\u001b[0;31m---------------------------------------------------------------------------\u001b[0m",
            "\u001b[0;31mNameError\u001b[0m                                 Traceback (most recent call last)",
            "\u001b[0;32m<ipython-input-10-be180c96c830>\u001b[0m in \u001b[0;36m<cell line: 6>\u001b[0;34m()\u001b[0m\n\u001b[1;32m      4\u001b[0m \u001b[0my\u001b[0m \u001b[0;34m=\u001b[0m \u001b[0mdaily_city_average\u001b[0m\u001b[0;34m[\u001b[0m\u001b[0;34m'OCCUPANCY_RATE'\u001b[0m\u001b[0;34m]\u001b[0m \u001b[0;31m# Target Variable: OCCUPANCY RATE\u001b[0m\u001b[0;34m\u001b[0m\u001b[0;34m\u001b[0m\u001b[0m\n\u001b[1;32m      5\u001b[0m \u001b[0;34m\u001b[0m\u001b[0m\n\u001b[0;32m----> 6\u001b[0;31m \u001b[0mdecomposition\u001b[0m \u001b[0;34m=\u001b[0m \u001b[0mseasonal_decompose\u001b[0m\u001b[0;34m(\u001b[0m\u001b[0my\u001b[0m\u001b[0;34m,\u001b[0m \u001b[0mmodel\u001b[0m\u001b[0;34m=\u001b[0m\u001b[0;34m'additive'\u001b[0m\u001b[0;34m)\u001b[0m\u001b[0;34m\u001b[0m\u001b[0;34m\u001b[0m\u001b[0m\n\u001b[0m\u001b[1;32m      7\u001b[0m \u001b[0mdecomposition\u001b[0m\u001b[0;34m.\u001b[0m\u001b[0mplot\u001b[0m\u001b[0;34m(\u001b[0m\u001b[0;34m)\u001b[0m\u001b[0;34m\u001b[0m\u001b[0;34m\u001b[0m\u001b[0m\n\u001b[1;32m      8\u001b[0m \u001b[0mplt\u001b[0m\u001b[0;34m.\u001b[0m\u001b[0mshow\u001b[0m\u001b[0;34m(\u001b[0m\u001b[0;34m)\u001b[0m\u001b[0;34m\u001b[0m\u001b[0;34m\u001b[0m\u001b[0m\n",
            "\u001b[0;31mNameError\u001b[0m: name 'seasonal_decompose' is not defined"
          ]
        }
      ]
    },
    {
      "cell_type": "code",
      "source": [
        "# # Finding The Best Parameters\n",
        "# # found the following method online\n",
        "\n",
        "# !pip install pmdarima\n",
        "# from pmdarima import auto_arima\n",
        "\n",
        "# # Auto ARIMA model\n",
        "# y = daily_city_average['OCCUPANCY_RATE']\n",
        "# auto_arima_model = auto_arima(y, start_p=0, start_q=0,\n",
        "#                               test='adf',       # Use adftest to find optimal 'd'\n",
        "#                               max_p=3, max_q=3, # Maximum p and q\n",
        "#                               m=12,              # Frequency of the series\n",
        "#                               d=None,           # Let model determine 'd'\n",
        "#                               seasonal=True,   # No Seasonality\n",
        "#                               start_P=0,\n",
        "#                               D=1,\n",
        "#                               trace=True,\n",
        "#                               error_action='ignore',\n",
        "#                               suppress_warnings=True,\n",
        "#                               stepwise=True)\n",
        "\n",
        "# print(auto_arima_model.summary())\n",
        "\n",
        "# # TAKES A REALLY LONG TIME TO RUN\n",
        "# # RESULTS FROM INITIAL RUN:\n",
        "# #     p, d, q = 3, 0, 0\n",
        "# #     P, D, Q, m = 2, 1, 0, 12"
      ],
      "metadata": {
        "id": "GLyY4r0ju6ov"
      },
      "execution_count": null,
      "outputs": []
    },
    {
      "cell_type": "code",
      "source": [
        "# applying parameters to SARIMA\n",
        "p, d, q = 3, 0, 0\n",
        "P, D, Q, m = 2, 1, 0, 12\n",
        "\n",
        "city_model = SARIMAX(y,\n",
        "                order=(p, d, q),\n",
        "                seasonal_order=(P, D, Q, m),\n",
        "                enforce_stationarity=False,\n",
        "                enforce_invertibility=False)\n",
        "\n",
        "city_results = city_model.fit()\n",
        "\n",
        "# Summary of the model\n",
        "print(city_results.summary())"
      ],
      "metadata": {
        "colab": {
          "base_uri": "https://localhost:8080/"
        },
        "id": "uV8CaZ9zwed8",
        "outputId": "325402c4-2261-475b-ab19-b43fb45146a8"
      },
      "execution_count": null,
      "outputs": [
        {
          "output_type": "stream",
          "name": "stderr",
          "text": [
            "/usr/local/lib/python3.10/dist-packages/statsmodels/tsa/base/tsa_model.py:473: ValueWarning: No frequency information was provided, so inferred frequency D will be used.\n",
            "  self._init_dates(dates, freq)\n",
            "/usr/local/lib/python3.10/dist-packages/statsmodels/tsa/base/tsa_model.py:473: ValueWarning: No frequency information was provided, so inferred frequency D will be used.\n",
            "  self._init_dates(dates, freq)\n"
          ]
        },
        {
          "output_type": "stream",
          "name": "stdout",
          "text": [
            "                                     SARIMAX Results                                      \n",
            "==========================================================================================\n",
            "Dep. Variable:                     OCCUPANCY_RATE   No. Observations:                 1095\n",
            "Model:             SARIMAX(3, 0, 0)x(2, 1, 0, 12)   Log Likelihood                -510.568\n",
            "Date:                            Wed, 17 Apr 2024   AIC                           1033.136\n",
            "Time:                                    15:46:16   BIC                           1062.909\n",
            "Sample:                                01-01-2021   HQIC                          1044.422\n",
            "                                     - 12-31-2023                                         \n",
            "Covariance Type:                              opg                                         \n",
            "==============================================================================\n",
            "                 coef    std err          z      P>|z|      [0.025      0.975]\n",
            "------------------------------------------------------------------------------\n",
            "ar.L1          0.7065      0.024     29.200      0.000       0.659       0.754\n",
            "ar.L2          0.0553      0.034      1.615      0.106      -0.012       0.123\n",
            "ar.L3          0.0985      0.028      3.501      0.000       0.043       0.154\n",
            "ar.S.L12      -0.5996      0.027    -22.246      0.000      -0.652      -0.547\n",
            "ar.S.L24      -0.3152      0.025    -12.687      0.000      -0.364      -0.266\n",
            "sigma2         0.1540      0.005     31.647      0.000       0.144       0.164\n",
            "===================================================================================\n",
            "Ljung-Box (L1) (Q):                   0.00   Jarque-Bera (JB):               200.10\n",
            "Prob(Q):                              1.00   Prob(JB):                         0.00\n",
            "Heteroskedasticity (H):               0.57   Skew:                            -0.32\n",
            "Prob(H) (two-sided):                  0.00   Kurtosis:                         5.03\n",
            "===================================================================================\n",
            "\n",
            "Warnings:\n",
            "[1] Covariance matrix calculated using the outer product of gradients (complex-step).\n"
          ]
        }
      ]
    },
    {
      "cell_type": "code",
      "source": [
        "# City Forecast\n",
        "city_forecast = city_results.get_forecast(steps=12)\n",
        "city_mean_forecast = city_forecast.predicted_mean\n",
        "city_conf_int = city_forecast.conf_int()\n",
        "\n",
        "# Plot the forecast including the confidence intervals\n",
        "plt.figure(figsize=(10, 6))\n",
        "plt.plot(y.index, y, label='Observed')\n",
        "plt.plot(city_mean_forecast.index, city_mean_forecast, color='red', label='Forecast')\n",
        "plt.fill_between(city_conf_int.index, city_conf_int.iloc[:, 0], city_conf_int.iloc[:, 1], color='pink')\n",
        "plt.xlabel('Date')\n",
        "plt.ylabel('Average BED Occupancy Rate')\n",
        "plt.legend()\n",
        "plt.show()"
      ],
      "metadata": {
        "colab": {
          "base_uri": "https://localhost:8080/",
          "height": 542
        },
        "id": "qSQcSE-3wUgR",
        "outputId": "7a91696a-928d-4564-ec13-af70230977e3"
      },
      "execution_count": null,
      "outputs": [
        {
          "output_type": "display_data",
          "data": {
            "text/plain": [
              "<Figure size 1000x600 with 1 Axes>"
            ],
            "image/png": "[encoded data removed]"
          },
          "metadata": {}
        }
      ]
    },
    {
      "cell_type": "markdown",
      "source": [
        "### Training and Testing"
      ],
      "metadata": {
        "id": "wcSC0cEsxbKN"
      }
    },
    {
      "cell_type": "code",
      "source": [
        "split_point = int(len(y) * 0.8)\n",
        "city_y_train, city_y_test = y.iloc[:split_point], y.iloc[split_point:]\n",
        "\n",
        "\n",
        "\n",
        "city_model_train = SARIMAX(city_y_train,\n",
        "                                 order=(p, d, q),\n",
        "                                 seasonal_order=(P, D, Q, m),\n",
        "                                 enforce_stationarity=False,\n",
        "                                 enforce_invertibility=False)\n",
        "city_training_results = city_model_train.fit()\n",
        "\n",
        "# Forecast\n",
        "city_forecast_training = city_training_results.get_forecast(steps=len(city_y_test))\n",
        "city_predictions_training = city_forecast_training.predicted_mean\n",
        "\n",
        "def mean_absolute_percentage_error(y_true, y_pred):\n",
        "    return np.mean(np.abs((y_true - y_pred) / y_true)) * 100\n",
        "\n",
        "# Metrics without weather data\n",
        "mae_city = mean_absolute_error(city_y_test, city_predictions_training)\n",
        "mse_city = mean_squared_error(city_y_test, city_predictions_training)\n",
        "rmse_city = np.sqrt(mse_city)\n",
        "mape_city = mean_absolute_percentage_error(city_y_test, city_predictions_training)\n",
        "\n",
        "# Print the metrics to compare\n",
        "print(f\"MAE: {mae_city}, MSE: {mse_city}, RMSE: {rmse_city}, MAPE: {mape_city}%\")"
      ],
      "metadata": {
        "colab": {
          "base_uri": "https://localhost:8080/"
        },
        "id": "7HIMrYxmx9mc",
        "outputId": "f1358dae-4e02-403d-945e-1d1eee488831"
      },
      "execution_count": null,
      "outputs": [
        {
          "output_type": "stream",
          "name": "stderr",
          "text": [
            "/usr/local/lib/python3.10/dist-packages/statsmodels/tsa/base/tsa_model.py:473: ValueWarning: No frequency information was provided, so inferred frequency D will be used.\n",
            "  self._init_dates(dates, freq)\n",
            "/usr/local/lib/python3.10/dist-packages/statsmodels/tsa/base/tsa_model.py:473: ValueWarning: No frequency information was provided, so inferred frequency D will be used.\n",
            "  self._init_dates(dates, freq)\n"
          ]
        },
        {
          "output_type": "stream",
          "name": "stdout",
          "text": [
            "MAE: 0.42491919424562674, MSE: 0.26320616134808406, RMSE: 0.513036218358981, MAPE: 0.4327077496079315%\n"
          ]
        }
      ]
    },
    {
      "cell_type": "markdown",
      "source": [
        "## Regression Models"
      ],
      "metadata": {
        "id": "couB8jrt0NdO"
      }
    },
    {
      "cell_type": "code",
      "source": [
        "from sklearn.model_selection import train_test_split\n",
        "from sklearn.linear_model import LinearRegression\n",
        "from sklearn.metrics import mean_squared_error\n",
        "from sklearn.ensemble import RandomForestRegressor\n",
        "import statsmodels.api as sm\n",
        "from statsmodels.tsa.stattools import adfuller"
      ],
      "metadata": {
        "id": "dcZXiJ-7wxs7"
      },
      "execution_count": null,
      "outputs": []
    },
    {
      "cell_type": "markdown",
      "source": [
        "### Postal Code"
      ],
      "metadata": {
        "id": "7GavobK40PAO"
      }
    },
    {
      "cell_type": "code",
      "source": [
        "# Data Prep\n",
        "\n",
        "postal_code_data = combined_total_df\n",
        "\n",
        "postal_code_data['DAY_OF_WEEK'] = postal_code_data['OCCUPANCY_DATE'].dt.dayofweek\n",
        "postal_code_data['MONTH'] = postal_code_data['OCCUPANCY_DATE'].dt.month\n",
        "\n",
        "grouped_data = postal_code_data.groupby(['LOCATION_POSTAL_CODE', 'OCCUPANCY_DATE']).agg({\n",
        "    'OCCUPANCY_RATE': 'mean',\n",
        "    'DAY_OF_WEEK': 'first',  # since all entries per day should be the same\n",
        "    'MONTH': 'first'\n",
        "}).reset_index()\n",
        "\n",
        "grouped_data.head()"
      ],
      "metadata": {
        "colab": {
          "base_uri": "https://localhost:8080/",
          "height": 201
        },
        "id": "Wj8brW4frl4Z",
        "outputId": "2128faa3-3d79-4241-8a18-51694ee96f75"
      },
      "execution_count": null,
      "outputs": [
        {
          "output_type": "execute_result",
          "data": {
            "text/plain": [
              "  LOCATION_POSTAL_CODE OCCUPANCY_DATE  OCCUPANCY_RATE  DAY_OF_WEEK  MONTH\n",
              "0              L4L 8P5     2021-01-01           100.0            4      1\n",
              "1              L4L 8P5     2021-01-02           100.0            5      1\n",
              "2              L4L 8P5     2021-01-03           100.0            6      1\n",
              "3              L4L 8P5     2021-01-04           100.0            0      1\n",
              "4              L4L 8P5     2021-01-05           100.0            1      1"
            ],
            "text/html": [
              "\n",
              "  <div id=\"df-6f9b21ee-2f50-4f51-9e42-c771e3e0e8ce\" class=\"colab-df-container\">\n",
              "    <div>\n",
              "<style scoped>\n",
              "    .dataframe tbody tr th:only-of-type {\n",
              "        vertical-align: middle;\n",
              "    }\n",
              "\n",
              "    .dataframe tbody tr th {\n",
              "        vertical-align: top;\n",
              "    }\n",
              "\n",
              "    .dataframe thead th {\n",
              "        text-align: right;\n",
              "    }\n",
              "</style>\n",
              "<table border=\"1\" class=\"dataframe\">\n",
              "  <thead>\n",
              "    <tr style=\"text-align: right;\">\n",
              "      <th></th>\n",
              "      <th>LOCATION_POSTAL_CODE</th>\n",
              "      <th>OCCUPANCY_DATE</th>\n",
              "      <th>OCCUPANCY_RATE</th>\n",
              "      <th>DAY_OF_WEEK</th>\n",
              "      <th>MONTH</th>\n",
              "    </tr>\n",
              "  </thead>\n",
              "  <tbody>\n",
              "    <tr>\n",
              "      <th>0</th>\n",
              "      <td>L4L 8P5</td>\n",
              "      <td>2021-01-01</td>\n",
              "      <td>100.0</td>\n",
              "      <td>4</td>\n",
              "      <td>1</td>\n",
              "    </tr>\n",
              "    <tr>\n",
              "      <th>1</th>\n",
              "      <td>L4L 8P5</td>\n",
              "      <td>2021-01-02</td>\n",
              "      <td>100.0</td>\n",
              "      <td>5</td>\n",
              "      <td>1</td>\n",
              "    </tr>\n",
              "    <tr>\n",
              "      <th>2</th>\n",
              "      <td>L4L 8P5</td>\n",
              "      <td>2021-01-03</td>\n",
              "      <td>100.0</td>\n",
              "      <td>6</td>\n",
              "      <td>1</td>\n",
              "    </tr>\n",
              "    <tr>\n",
              "      <th>3</th>\n",
              "      <td>L4L 8P5</td>\n",
              "      <td>2021-01-04</td>\n",
              "      <td>100.0</td>\n",
              "      <td>0</td>\n",
              "      <td>1</td>\n",
              "    </tr>\n",
              "    <tr>\n",
              "      <th>4</th>\n",
              "      <td>L4L 8P5</td>\n",
              "      <td>2021-01-05</td>\n",
              "      <td>100.0</td>\n",
              "      <td>1</td>\n",
              "      <td>1</td>\n",
              "    </tr>\n",
              "  </tbody>\n",
              "</table>\n",
              "</div>\n",
              "    <div class=\"colab-df-buttons\">\n",
              "\n",
              "  <div class=\"colab-df-container\">\n",
              "    <button class=\"colab-df-convert\" onclick=\"convertToInteractive('df-6f9b21ee-2f50-4f51-9e42-c771e3e0e8ce')\"\n",
              "            title=\"Convert this dataframe to an interactive table.\"\n",
              "            style=\"display:none;\">\n",
              "\n",
              "  <svg xmlns=\"http://www.w3.org/2000/svg\" height=\"24px\" viewBox=\"0 -960 960 960\">\n",
              "    <path d=\"M120-120v-720h720v720H120Zm60-500h600v-160H180v160Zm220 220h160v-160H400v160Zm0 220h160v-160H400v160ZM180-400h160v-160H180v160Zm440 0h160v-160H620v160ZM180-180h160v-160H180v160Zm440 0h160v-160H620v160Z\"/>\n",
              "  </svg>\n",
              "    </button>\n",
              "\n",
              "  <style>\n",
              "    .colab-df-container {\n",
              "      display:flex;\n",
              "      gap: 12px;\n",
              "    }\n",
              "\n",
              "    .colab-df-convert {\n",
              "      background-color: #E8F0FE;\n",
              "      border: none;\n",
              "      border-radius: 50%;\n",
              "      cursor: pointer;\n",
              "      display: none;\n",
              "      fill: #1967D2;\n",
              "      height: 32px;\n",
              "      padding: 0 0 0 0;\n",
              "      width: 32px;\n",
              "    }\n",
              "\n",
              "    .colab-df-convert:hover {\n",
              "      background-color: #E2EBFA;\n",
              "      box-shadow: 0px 1px 2px rgba(60, 64, 67, 0.3), 0px 1px 3px 1px rgba(60, 64, 67, 0.15);\n",
              "      fill: #174EA6;\n",
              "    }\n",
              "\n",
              "    .colab-df-buttons div {\n",
              "      margin-bottom: 4px;\n",
              "    }\n",
              "\n",
              "    [theme=dark] .colab-df-convert {\n",
              "      background-color: #3B4455;\n",
              "      fill: #D2E3FC;\n",
              "    }\n",
              "\n",
              "    [theme=dark] .colab-df-convert:hover {\n",
              "      background-color: #434B5C;\n",
              "      box-shadow: 0px 1px 3px 1px rgba(0, 0, 0, 0.15);\n",
              "      filter: drop-shadow(0px 1px 2px rgba(0, 0, 0, 0.3));\n",
              "      fill: #FFFFFF;\n",
              "    }\n",
              "  </style>\n",
              "\n",
              "    <script>\n",
              "      const buttonEl =\n",
              "        document.querySelector('#df-6f9b21ee-2f50-4f51-9e42-c771e3e0e8ce button.colab-df-convert');\n",
              "      buttonEl.style.display =\n",
              "        google.colab.kernel.accessAllowed ? 'block' : 'none';\n",
              "\n",
              "      async function convertToInteractive(key) {\n",
              "        const element = document.querySelector('#df-6f9b21ee-2f50-4f51-9e42-c771e3e0e8ce');\n",
              "        const dataTable =\n",
              "          await google.colab.kernel.invokeFunction('convertToInteractive',\n",
              "                                                    [key], {});\n",
              "        if (!dataTable) return;\n",
              "\n",
              "        const docLinkHtml = 'Like what you see? Visit the ' +\n",
              "          '<a target=\"_blank\" href=https://colab.research.google.com/notebooks/data_table.ipynb>data table notebook</a>'\n",
              "          + ' to learn more about interactive tables.';\n",
              "        element.innerHTML = '';\n",
              "        dataTable['output_type'] = 'display_data';\n",
              "        await google.colab.output.renderOutput(dataTable, element);\n",
              "        const docLink = document.createElement('div');\n",
              "        docLink.innerHTML = docLinkHtml;\n",
              "        element.appendChild(docLink);\n",
              "      }\n",
              "    </script>\n",
              "  </div>\n",
              "\n",
              "\n",
              "<div id=\"df-6ee33a45-4863-4f60-b984-ca49ea3912b0\">\n",
              "  <button class=\"colab-df-quickchart\" onclick=\"quickchart('df-6ee33a45-4863-4f60-b984-ca49ea3912b0')\"\n",
              "            title=\"Suggest charts\"\n",
              "            style=\"display:none;\">\n",
              "\n",
              "<svg xmlns=\"http://www.w3.org/2000/svg\" height=\"24px\"viewBox=\"0 0 24 24\"\n",
              "     width=\"24px\">\n",
              "    <g>\n",
              "        <path d=\"M19 3H5c-1.1 0-2 .9-2 2v14c0 1.1.9 2 2 2h14c1.1 0 2-.9 2-2V5c0-1.1-.9-2-2-2zM9 17H7v-7h2v7zm4 0h-2V7h2v10zm4 0h-2v-4h2v4z\"/>\n",
              "    </g>\n",
              "</svg>\n",
              "  </button>\n",
              "\n",
              "<style>\n",
              "  .colab-df-quickchart {\n",
              "      --bg-color: #E8F0FE;\n",
              "      --fill-color: #1967D2;\n",
              "      --hover-bg-color: #E2EBFA;\n",
              "      --hover-fill-color: #174EA6;\n",
              "      --disabled-fill-color: #AAA;\n",
              "      --disabled-bg-color: #DDD;\n",
              "  }\n",
              "\n",
              "  [theme=dark] .colab-df-quickchart {\n",
              "      --bg-color: #3B4455;\n",
              "      --fill-color: #D2E3FC;\n",
              "      --hover-bg-color: #434B5C;\n",
              "      --hover-fill-color: #FFFFFF;\n",
              "      --disabled-bg-color: #3B4455;\n",
              "      --disabled-fill-color: #666;\n",
              "  }\n",
              "\n",
              "  .colab-df-quickchart {\n",
              "    background-color: var(--bg-color);\n",
              "    border: none;\n",
              "    border-radius: 50%;\n",
              "    cursor: pointer;\n",
              "    display: none;\n",
              "    fill: var(--fill-color);\n",
              "    height: 32px;\n",
              "    padding: 0;\n",
              "    width: 32px;\n",
              "  }\n",
              "\n",
              "  .colab-df-quickchart:hover {\n",
              "    background-color: var(--hover-bg-color);\n",
              "    box-shadow: 0 1px 2px rgba(60, 64, 67, 0.3), 0 1px 3px 1px rgba(60, 64, 67, 0.15);\n",
              "    fill: var(--button-hover-fill-color);\n",
              "  }\n",
              "\n",
              "  .colab-df-quickchart-complete:disabled,\n",
              "  .colab-df-quickchart-complete:disabled:hover {\n",
              "    background-color: var(--disabled-bg-color);\n",
              "    fill: var(--disabled-fill-color);\n",
              "    box-shadow: none;\n",
              "  }\n",
              "\n",
              "  .colab-df-spinner {\n",
              "    border: 2px solid var(--fill-color);\n",
              "    border-color: transparent;\n",
              "    border-bottom-color: var(--fill-color);\n",
              "    animation:\n",
              "      spin 1s steps(1) infinite;\n",
              "  }\n",
              "\n",
              "  @keyframes spin {\n",
              "    0% {\n",
              "      border-color: transparent;\n",
              "      border-bottom-color: var(--fill-color);\n",
              "      border-left-color: var(--fill-color);\n",
              "    }\n",
              "    20% {\n",
              "      border-color: transparent;\n",
              "      border-left-color: var(--fill-color);\n",
              "      border-top-color: var(--fill-color);\n",
              "    }\n",
              "    30% {\n",
              "      border-color: transparent;\n",
              "      border-left-color: var(--fill-color);\n",
              "      border-top-color: var(--fill-color);\n",
              "      border-right-color: var(--fill-color);\n",
              "    }\n",
              "    40% {\n",
              "      border-color: transparent;\n",
              "      border-right-color: var(--fill-color);\n",
              "      border-top-color: var(--fill-color);\n",
              "    }\n",
              "    60% {\n",
              "      border-color: transparent;\n",
              "      border-right-color: var(--fill-color);\n",
              "    }\n",
              "    80% {\n",
              "      border-color: transparent;\n",
              "      border-right-color: var(--fill-color);\n",
              "      border-bottom-color: var(--fill-color);\n",
              "    }\n",
              "    90% {\n",
              "      border-color: transparent;\n",
              "      border-bottom-color: var(--fill-color);\n",
              "    }\n",
              "  }\n",
              "</style>\n",
              "\n",
              "  <script>\n",
              "    async function quickchart(key) {\n",
              "      const quickchartButtonEl =\n",
              "        document.querySelector('#' + key + ' button');\n",
              "      quickchartButtonEl.disabled = true;  // To prevent multiple clicks.\n",
              "      quickchartButtonEl.classList.add('colab-df-spinner');\n",
              "      try {\n",
              "        const charts = await google.colab.kernel.invokeFunction(\n",
              "            'suggestCharts', [key], {});\n",
              "      } catch (error) {\n",
              "        console.error('Error during call to suggestCharts:', error);\n",
              "      }\n",
              "      quickchartButtonEl.classList.remove('colab-df-spinner');\n",
              "      quickchartButtonEl.classList.add('colab-df-quickchart-complete');\n",
              "    }\n",
              "    (() => {\n",
              "      let quickchartButtonEl =\n",
              "        document.querySelector('#df-6ee33a45-4863-4f60-b984-ca49ea3912b0 button');\n",
              "      quickchartButtonEl.style.display =\n",
              "        google.colab.kernel.accessAllowed ? 'block' : 'none';\n",
              "    })();\n",
              "  </script>\n",
              "</div>\n",
              "\n",
              "    </div>\n",
              "  </div>\n"
            ],
            "application/vnd.google.colaboratory.intrinsic+json": {
              "type": "dataframe",
              "variable_name": "grouped_data"
            }
          },
          "metadata": {},
          "execution_count": 11
        }
      ]
    },
    {
      "cell_type": "code",
      "source": [
        "# Prepare the feature matrix and target vector\n",
        "postal_X = postal_code_data[['DAY_OF_WEEK', 'MONTH']]\n",
        "postal_y = postal_code_data['OCCUPANCY_RATE']\n",
        "\n",
        "# Split the dataset\n",
        "X_train_postal, X_test_postal, y_train_postal, y_test_postal = train_test_split(postal_X, postal_y, test_size=0.2, random_state=4)\n",
        "\n",
        "# Initialize and train the linear regression model\n",
        "model = LinearRegression()\n",
        "model.fit(X_train_postal, y_train_postal)\n",
        "\n",
        "# Predict and evaluate the model\n",
        "postal_predictions = model.predict(X_test_postal)\n",
        "postal_mse = mean_squared_error(y_test_postal, postal_predictions)\n",
        "print(f'Mean Squared Error: {postal_mse}')"
      ],
      "metadata": {
        "colab": {
          "base_uri": "https://localhost:8080/"
        },
        "id": "nHx1qJkZwIzO",
        "outputId": "0f4a58b7-2566-47f9-de29-d9e60509a229"
      },
      "execution_count": null,
      "outputs": [
        {
          "output_type": "stream",
          "name": "stdout",
          "text": [
            "Mean Squared Error: 114.00911407793936\n"
          ]
        }
      ]
    },
    {
      "cell_type": "code",
      "source": [
        "# Initialize the Random Forest model\n",
        "rf_model_postal = RandomForestRegressor(n_estimators=100, random_state=42)\n",
        "\n",
        "# Train the model\n",
        "rf_model_postal.fit(X_train_postal, y_train_postal)\n",
        "\n",
        "# Predict and evaluate the model\n",
        "rf_predictions_postal = rf_model_postal.predict(X_test_postal)\n",
        "rf_mse_postal = mean_squared_error(y_test_postal, rf_predictions_postal)\n",
        "print(f'Random Forest Mean Squared Error: {rf_mse_postal}')"
      ],
      "metadata": {
        "colab": {
          "base_uri": "https://localhost:8080/"
        },
        "id": "ICfoLm03w2f0",
        "outputId": "3f9436f0-342d-4026-a6ab-b0315b3c7a8b"
      },
      "execution_count": null,
      "outputs": [
        {
          "output_type": "stream",
          "name": "stdout",
          "text": [
            "Random Forest Mean Squared Error: 113.89820301891064\n"
          ]
        }
      ]
    },
    {
      "cell_type": "markdown",
      "source": [
        "### Shelter Types"
      ],
      "metadata": {
        "id": "KqG6RJO50QzU"
      }
    },
    {
      "cell_type": "code",
      "source": [
        "# Data Prep\n",
        "\n",
        "sector_data = combined_total_df\n",
        "\n",
        "sector_data['DAY_OF_WEEK'] = sector_data['OCCUPANCY_DATE'].dt.dayofweek\n",
        "sector_data['MONTH'] = sector_data['OCCUPANCY_DATE'].dt.month\n",
        "\n",
        "sector_grouped_data = sector_data.groupby(['SECTOR', 'OCCUPANCY_DATE']).agg({\n",
        "    'OCCUPANCY_RATE': 'mean',\n",
        "    'DAY_OF_WEEK': 'first',  # since all entries per day should be the same\n",
        "    'MONTH': 'first'\n",
        "}).reset_index()\n",
        "\n",
        "sector_grouped_data.head()"
      ],
      "metadata": {
        "colab": {
          "base_uri": "https://localhost:8080/",
          "height": 201
        },
        "id": "xRJ0Oys1xmtY",
        "outputId": "19adc694-1c69-4fe1-a866-fbca50115637"
      },
      "execution_count": 50,
      "outputs": [
        {
          "output_type": "execute_result",
          "data": {
            "text/plain": [
              "     SECTOR OCCUPANCY_DATE  OCCUPANCY_RATE  DAY_OF_WEEK  MONTH\n",
              "0  Families     2021-01-01       91.113529            4      1\n",
              "1  Families     2021-01-02       91.103529            5      1\n",
              "2  Families     2021-01-03       91.108824            6      1\n",
              "3  Families     2021-01-04       91.134706            0      1\n",
              "4  Families     2021-01-05       90.962941            1      1"
            ],
            "text/html": [
              "\n",
              "  <div id=\"df-d18b790d-20fa-4014-8fad-48ea5e5a5fad\" class=\"colab-df-container\">\n",
              "    <div>\n",
              "<style scoped>\n",
              "    .dataframe tbody tr th:only-of-type {\n",
              "        vertical-align: middle;\n",
              "    }\n",
              "\n",
              "    .dataframe tbody tr th {\n",
              "        vertical-align: top;\n",
              "    }\n",
              "\n",
              "    .dataframe thead th {\n",
              "        text-align: right;\n",
              "    }\n",
              "</style>\n",
              "<table border=\"1\" class=\"dataframe\">\n",
              "  <thead>\n",
              "    <tr style=\"text-align: right;\">\n",
              "      <th></th>\n",
              "      <th>SECTOR</th>\n",
              "      <th>OCCUPANCY_DATE</th>\n",
              "      <th>OCCUPANCY_RATE</th>\n",
              "      <th>DAY_OF_WEEK</th>\n",
              "      <th>MONTH</th>\n",
              "    </tr>\n",
              "  </thead>\n",
              "  <tbody>\n",
              "    <tr>\n",
              "      <th>0</th>\n",
              "      <td>Families</td>\n",
              "      <td>2021-01-01</td>\n",
              "      <td>91.113529</td>\n",
              "      <td>4</td>\n",
              "      <td>1</td>\n",
              "    </tr>\n",
              "    <tr>\n",
              "      <th>1</th>\n",
              "      <td>Families</td>\n",
              "      <td>2021-01-02</td>\n",
              "      <td>91.103529</td>\n",
              "      <td>5</td>\n",
              "      <td>1</td>\n",
              "    </tr>\n",
              "    <tr>\n",
              "      <th>2</th>\n",
              "      <td>Families</td>\n",
              "      <td>2021-01-03</td>\n",
              "      <td>91.108824</td>\n",
              "      <td>6</td>\n",
              "      <td>1</td>\n",
              "    </tr>\n",
              "    <tr>\n",
              "      <th>3</th>\n",
              "      <td>Families</td>\n",
              "      <td>2021-01-04</td>\n",
              "      <td>91.134706</td>\n",
              "      <td>0</td>\n",
              "      <td>1</td>\n",
              "    </tr>\n",
              "    <tr>\n",
              "      <th>4</th>\n",
              "      <td>Families</td>\n",
              "      <td>2021-01-05</td>\n",
              "      <td>90.962941</td>\n",
              "      <td>1</td>\n",
              "      <td>1</td>\n",
              "    </tr>\n",
              "  </tbody>\n",
              "</table>\n",
              "</div>\n",
              "    <div class=\"colab-df-buttons\">\n",
              "\n",
              "  <div class=\"colab-df-container\">\n",
              "    <button class=\"colab-df-convert\" onclick=\"convertToInteractive('df-d18b790d-20fa-4014-8fad-48ea5e5a5fad')\"\n",
              "            title=\"Convert this dataframe to an interactive table.\"\n",
              "            style=\"display:none;\">\n",
              "\n",
              "  <svg xmlns=\"http://www.w3.org/2000/svg\" height=\"24px\" viewBox=\"0 -960 960 960\">\n",
              "    <path d=\"M120-120v-720h720v720H120Zm60-500h600v-160H180v160Zm220 220h160v-160H400v160Zm0 220h160v-160H400v160ZM180-400h160v-160H180v160Zm440 0h160v-160H620v160ZM180-180h160v-160H180v160Zm440 0h160v-160H620v160Z\"/>\n",
              "  </svg>\n",
              "    </button>\n",
              "\n",
              "  <style>\n",
              "    .colab-df-container {\n",
              "      display:flex;\n",
              "      gap: 12px;\n",
              "    }\n",
              "\n",
              "    .colab-df-convert {\n",
              "      background-color: #E8F0FE;\n",
              "      border: none;\n",
              "      border-radius: 50%;\n",
              "      cursor: pointer;\n",
              "      display: none;\n",
              "      fill: #1967D2;\n",
              "      height: 32px;\n",
              "      padding: 0 0 0 0;\n",
              "      width: 32px;\n",
              "    }\n",
              "\n",
              "    .colab-df-convert:hover {\n",
              "      background-color: #E2EBFA;\n",
              "      box-shadow: 0px 1px 2px rgba(60, 64, 67, 0.3), 0px 1px 3px 1px rgba(60, 64, 67, 0.15);\n",
              "      fill: #174EA6;\n",
              "    }\n",
              "\n",
              "    .colab-df-buttons div {\n",
              "      margin-bottom: 4px;\n",
              "    }\n",
              "\n",
              "    [theme=dark] .colab-df-convert {\n",
              "      background-color: #3B4455;\n",
              "      fill: #D2E3FC;\n",
              "    }\n",
              "\n",
              "    [theme=dark] .colab-df-convert:hover {\n",
              "      background-color: #434B5C;\n",
              "      box-shadow: 0px 1px 3px 1px rgba(0, 0, 0, 0.15);\n",
              "      filter: drop-shadow(0px 1px 2px rgba(0, 0, 0, 0.3));\n",
              "      fill: #FFFFFF;\n",
              "    }\n",
              "  </style>\n",
              "\n",
              "    <script>\n",
              "      const buttonEl =\n",
              "        document.querySelector('#df-d18b790d-20fa-4014-8fad-48ea5e5a5fad button.colab-df-convert');\n",
              "      buttonEl.style.display =\n",
              "        google.colab.kernel.accessAllowed ? 'block' : 'none';\n",
              "\n",
              "      async function convertToInteractive(key) {\n",
              "        const element = document.querySelector('#df-d18b790d-20fa-4014-8fad-48ea5e5a5fad');\n",
              "        const dataTable =\n",
              "          await google.colab.kernel.invokeFunction('convertToInteractive',\n",
              "                                                    [key], {});\n",
              "        if (!dataTable) return;\n",
              "\n",
              "        const docLinkHtml = 'Like what you see? Visit the ' +\n",
              "          '<a target=\"_blank\" href=https://colab.research.google.com/notebooks/data_table.ipynb>data table notebook</a>'\n",
              "          + ' to learn more about interactive tables.';\n",
              "        element.innerHTML = '';\n",
              "        dataTable['output_type'] = 'display_data';\n",
              "        await google.colab.output.renderOutput(dataTable, element);\n",
              "        const docLink = document.createElement('div');\n",
              "        docLink.innerHTML = docLinkHtml;\n",
              "        element.appendChild(docLink);\n",
              "      }\n",
              "    </script>\n",
              "  </div>\n",
              "\n",
              "\n",
              "<div id=\"df-817f9d6e-3dbd-49ff-9fd7-c32c88ac4867\">\n",
              "  <button class=\"colab-df-quickchart\" onclick=\"quickchart('df-817f9d6e-3dbd-49ff-9fd7-c32c88ac4867')\"\n",
              "            title=\"Suggest charts\"\n",
              "            style=\"display:none;\">\n",
              "\n",
              "<svg xmlns=\"http://www.w3.org/2000/svg\" height=\"24px\"viewBox=\"0 0 24 24\"\n",
              "     width=\"24px\">\n",
              "    <g>\n",
              "        <path d=\"M19 3H5c-1.1 0-2 .9-2 2v14c0 1.1.9 2 2 2h14c1.1 0 2-.9 2-2V5c0-1.1-.9-2-2-2zM9 17H7v-7h2v7zm4 0h-2V7h2v10zm4 0h-2v-4h2v4z\"/>\n",
              "    </g>\n",
              "</svg>\n",
              "  </button>\n",
              "\n",
              "<style>\n",
              "  .colab-df-quickchart {\n",
              "      --bg-color: #E8F0FE;\n",
              "      --fill-color: #1967D2;\n",
              "      --hover-bg-color: #E2EBFA;\n",
              "      --hover-fill-color: #174EA6;\n",
              "      --disabled-fill-color: #AAA;\n",
              "      --disabled-bg-color: #DDD;\n",
              "  }\n",
              "\n",
              "  [theme=dark] .colab-df-quickchart {\n",
              "      --bg-color: #3B4455;\n",
              "      --fill-color: #D2E3FC;\n",
              "      --hover-bg-color: #434B5C;\n",
              "      --hover-fill-color: #FFFFFF;\n",
              "      --disabled-bg-color: #3B4455;\n",
              "      --disabled-fill-color: #666;\n",
              "  }\n",
              "\n",
              "  .colab-df-quickchart {\n",
              "    background-color: var(--bg-color);\n",
              "    border: none;\n",
              "    border-radius: 50%;\n",
              "    cursor: pointer;\n",
              "    display: none;\n",
              "    fill: var(--fill-color);\n",
              "    height: 32px;\n",
              "    padding: 0;\n",
              "    width: 32px;\n",
              "  }\n",
              "\n",
              "  .colab-df-quickchart:hover {\n",
              "    background-color: var(--hover-bg-color);\n",
              "    box-shadow: 0 1px 2px rgba(60, 64, 67, 0.3), 0 1px 3px 1px rgba(60, 64, 67, 0.15);\n",
              "    fill: var(--button-hover-fill-color);\n",
              "  }\n",
              "\n",
              "  .colab-df-quickchart-complete:disabled,\n",
              "  .colab-df-quickchart-complete:disabled:hover {\n",
              "    background-color: var(--disabled-bg-color);\n",
              "    fill: var(--disabled-fill-color);\n",
              "    box-shadow: none;\n",
              "  }\n",
              "\n",
              "  .colab-df-spinner {\n",
              "    border: 2px solid var(--fill-color);\n",
              "    border-color: transparent;\n",
              "    border-bottom-color: var(--fill-color);\n",
              "    animation:\n",
              "      spin 1s steps(1) infinite;\n",
              "  }\n",
              "\n",
              "  @keyframes spin {\n",
              "    0% {\n",
              "      border-color: transparent;\n",
              "      border-bottom-color: var(--fill-color);\n",
              "      border-left-color: var(--fill-color);\n",
              "    }\n",
              "    20% {\n",
              "      border-color: transparent;\n",
              "      border-left-color: var(--fill-color);\n",
              "      border-top-color: var(--fill-color);\n",
              "    }\n",
              "    30% {\n",
              "      border-color: transparent;\n",
              "      border-left-color: var(--fill-color);\n",
              "      border-top-color: var(--fill-color);\n",
              "      border-right-color: var(--fill-color);\n",
              "    }\n",
              "    40% {\n",
              "      border-color: transparent;\n",
              "      border-right-color: var(--fill-color);\n",
              "      border-top-color: var(--fill-color);\n",
              "    }\n",
              "    60% {\n",
              "      border-color: transparent;\n",
              "      border-right-color: var(--fill-color);\n",
              "    }\n",
              "    80% {\n",
              "      border-color: transparent;\n",
              "      border-right-color: var(--fill-color);\n",
              "      border-bottom-color: var(--fill-color);\n",
              "    }\n",
              "    90% {\n",
              "      border-color: transparent;\n",
              "      border-bottom-color: var(--fill-color);\n",
              "    }\n",
              "  }\n",
              "</style>\n",
              "\n",
              "  <script>\n",
              "    async function quickchart(key) {\n",
              "      const quickchartButtonEl =\n",
              "        document.querySelector('#' + key + ' button');\n",
              "      quickchartButtonEl.disabled = true;  // To prevent multiple clicks.\n",
              "      quickchartButtonEl.classList.add('colab-df-spinner');\n",
              "      try {\n",
              "        const charts = await google.colab.kernel.invokeFunction(\n",
              "            'suggestCharts', [key], {});\n",
              "      } catch (error) {\n",
              "        console.error('Error during call to suggestCharts:', error);\n",
              "      }\n",
              "      quickchartButtonEl.classList.remove('colab-df-spinner');\n",
              "      quickchartButtonEl.classList.add('colab-df-quickchart-complete');\n",
              "    }\n",
              "    (() => {\n",
              "      let quickchartButtonEl =\n",
              "        document.querySelector('#df-817f9d6e-3dbd-49ff-9fd7-c32c88ac4867 button');\n",
              "      quickchartButtonEl.style.display =\n",
              "        google.colab.kernel.accessAllowed ? 'block' : 'none';\n",
              "    })();\n",
              "  </script>\n",
              "</div>\n",
              "\n",
              "    </div>\n",
              "  </div>\n"
            ],
            "application/vnd.google.colaboratory.intrinsic+json": {
              "type": "dataframe",
              "variable_name": "sector_grouped_data",
              "summary": "{\n  \"name\": \"sector_grouped_data\",\n  \"rows\": 5475,\n  \"fields\": [\n    {\n      \"column\": \"SECTOR\",\n      \"properties\": {\n        \"dtype\": \"category\",\n        \"num_unique_values\": 5,\n        \"samples\": [\n          \"Men\",\n          \"Youth\",\n          \"Mixed Adult\"\n        ],\n        \"semantic_type\": \"\",\n        \"description\": \"\"\n      }\n    },\n    {\n      \"column\": \"OCCUPANCY_DATE\",\n      \"properties\": {\n        \"dtype\": \"date\",\n        \"min\": \"2021-01-01 00:00:00\",\n        \"max\": \"2023-12-31 00:00:00\",\n        \"num_unique_values\": 1095,\n        \"samples\": [\n          \"2022-06-18 00:00:00\",\n          \"2021-05-20 00:00:00\",\n          \"2021-03-30 00:00:00\"\n        ],\n        \"semantic_type\": \"\",\n        \"description\": \"\"\n      }\n    },\n    {\n      \"column\": \"OCCUPANCY_RATE\",\n      \"properties\": {\n        \"dtype\": \"number\",\n        \"std\": 3.4036514958293838,\n        \"min\": 83.49130434782609,\n        \"max\": 100.0,\n        \"num_unique_values\": 4994,\n        \"samples\": [\n          93.79947368421053,\n          95.1760606060606,\n          99.4325\n        ],\n        \"semantic_type\": \"\",\n        \"description\": \"\"\n      }\n    },\n    {\n      \"column\": \"DAY_OF_WEEK\",\n      \"properties\": {\n        \"dtype\": \"int32\",\n        \"num_unique_values\": 7,\n        \"samples\": [\n          4,\n          5,\n          2\n        ],\n        \"semantic_type\": \"\",\n        \"description\": \"\"\n      }\n    },\n    {\n      \"column\": \"MONTH\",\n      \"properties\": {\n        \"dtype\": \"int32\",\n        \"num_unique_values\": 12,\n        \"samples\": [\n          11,\n          10,\n          1\n        ],\n        \"semantic_type\": \"\",\n        \"description\": \"\"\n      }\n    }\n  ]\n}"
            }
          },
          "metadata": {},
          "execution_count": 50
        }
      ]
    },
    {
      "cell_type": "code",
      "source": [
        "# Prepare the feature matrix and target vector\n",
        "X_sector = sector_grouped_data[['DAY_OF_WEEK', 'MONTH']]\n",
        "y_sector = sector_grouped_data['OCCUPANCY_RATE']\n",
        "\n",
        "# Split the dataset\n",
        "X_train_sector, X_test_sector, y_train_sector, y_test_sector = train_test_split(X_sector, y_sector, test_size=0.2, random_state=42)"
      ],
      "metadata": {
        "id": "zxHAXuXgy6-P"
      },
      "execution_count": 51,
      "outputs": []
    },
    {
      "cell_type": "code",
      "source": [
        "# Initialize and train the linear regression model\n",
        "model_sector = LinearRegression()\n",
        "model_sector.fit(X_train_sector, y_train_sector)\n",
        "\n",
        "# Predict and evaluate the model\n",
        "predictions_sector = model_sector.predict(X_test_sector)\n",
        "mse_sector = mean_squared_error(y_test_sector, predictions_sector)\n",
        "print(f'Mean Squared Error: {mse_sector}')"
      ],
      "metadata": {
        "colab": {
          "base_uri": "https://localhost:8080/"
        },
        "id": "j4f6f6sHy86y",
        "outputId": "a002b833-2d0b-459d-edb3-919a45db3724"
      },
      "execution_count": 53,
      "outputs": [
        {
          "output_type": "stream",
          "name": "stdout",
          "text": [
            "Mean Squared Error: 11.231634545176927\n"
          ]
        }
      ]
    },
    {
      "cell_type": "code",
      "source": [
        "# Initialize the Random Forest model\n",
        "rf_model_sector = RandomForestRegressor(n_estimators=100, random_state=42)\n",
        "\n",
        "# Train the model\n",
        "rf_model_sector.fit(X_train_sector, y_train_sector)\n",
        "\n",
        "# Predict and evaluate the model\n",
        "rf_predictions_sector = rf_model_sector.predict(X_test_sector)\n",
        "rf_mse_sector = mean_squared_error(y_test_sector, rf_predictions_sector)\n",
        "print(f'Random Forest Mean Squared Error: {rf_mse_sector}')"
      ],
      "metadata": {
        "colab": {
          "base_uri": "https://localhost:8080/"
        },
        "id": "8VlUnhTAybAP",
        "outputId": "f1494290-5bbb-4a01-a90f-7592d60414f2"
      },
      "execution_count": 54,
      "outputs": [
        {
          "output_type": "stream",
          "name": "stdout",
          "text": [
            "Random Forest Mean Squared Error: 11.467874610769623\n"
          ]
        }
      ]
    },
    {
      "cell_type": "markdown",
      "source": [
        "### Capacity Type"
      ],
      "metadata": {
        "id": "cvjdpazSE96R"
      }
    },
    {
      "cell_type": "code",
      "source": [
        "# Data Prep\n",
        "\n",
        "capacity_data = combined_total_df\n",
        "\n",
        "capacity_data['DAY_OF_WEEK'] = capacity_data['OCCUPANCY_DATE'].dt.dayofweek\n",
        "capacity_data['MONTH'] = capacity_data['OCCUPANCY_DATE'].dt.month\n",
        "\n",
        "capacity_grouped_data = capacity_data.groupby(['CAPACITY_TYPE', 'OCCUPANCY_DATE']).agg({\n",
        "    'OCCUPANCY_RATE': 'mean',\n",
        "    'DAY_OF_WEEK': 'first',  # since all entries per day should be the same\n",
        "    'MONTH': 'first'\n",
        "}).reset_index()\n",
        "\n",
        "capacity_grouped_data.head()"
      ],
      "metadata": {
        "colab": {
          "base_uri": "https://localhost:8080/",
          "height": 201
        },
        "id": "q5ADomUUF82h",
        "outputId": "8e87d2b7-a8a7-435e-e263-8ae6bee9ee5a"
      },
      "execution_count": null,
      "outputs": [
        {
          "output_type": "execute_result",
          "data": {
            "text/plain": [
              "        CAPACITY_TYPE OCCUPANCY_DATE  OCCUPANCY_RATE  DAY_OF_WEEK  MONTH\n",
              "0  Bed Based Capacity     2021-01-01       93.077159            4      1\n",
              "1  Bed Based Capacity     2021-01-02       93.174659            5      1\n",
              "2  Bed Based Capacity     2021-01-03       92.600568            6      1\n",
              "3  Bed Based Capacity     2021-01-04       92.620455            0      1\n",
              "4  Bed Based Capacity     2021-01-05       92.356932            1      1"
            ],
            "text/html": [
              "\n",
              "  <div id=\"df-d8704de8-554e-4009-86eb-c224f574fc9d\" class=\"colab-df-container\">\n",
              "    <div>\n",
              "<style scoped>\n",
              "    .dataframe tbody tr th:only-of-type {\n",
              "        vertical-align: middle;\n",
              "    }\n",
              "\n",
              "    .dataframe tbody tr th {\n",
              "        vertical-align: top;\n",
              "    }\n",
              "\n",
              "    .dataframe thead th {\n",
              "        text-align: right;\n",
              "    }\n",
              "</style>\n",
              "<table border=\"1\" class=\"dataframe\">\n",
              "  <thead>\n",
              "    <tr style=\"text-align: right;\">\n",
              "      <th></th>\n",
              "      <th>CAPACITY_TYPE</th>\n",
              "      <th>OCCUPANCY_DATE</th>\n",
              "      <th>OCCUPANCY_RATE</th>\n",
              "      <th>DAY_OF_WEEK</th>\n",
              "      <th>MONTH</th>\n",
              "    </tr>\n",
              "  </thead>\n",
              "  <tbody>\n",
              "    <tr>\n",
              "      <th>0</th>\n",
              "      <td>Bed Based Capacity</td>\n",
              "      <td>2021-01-01</td>\n",
              "      <td>93.077159</td>\n",
              "      <td>4</td>\n",
              "      <td>1</td>\n",
              "    </tr>\n",
              "    <tr>\n",
              "      <th>1</th>\n",
              "      <td>Bed Based Capacity</td>\n",
              "      <td>2021-01-02</td>\n",
              "      <td>93.174659</td>\n",
              "      <td>5</td>\n",
              "      <td>1</td>\n",
              "    </tr>\n",
              "    <tr>\n",
              "      <th>2</th>\n",
              "      <td>Bed Based Capacity</td>\n",
              "      <td>2021-01-03</td>\n",
              "      <td>92.600568</td>\n",
              "      <td>6</td>\n",
              "      <td>1</td>\n",
              "    </tr>\n",
              "    <tr>\n",
              "      <th>3</th>\n",
              "      <td>Bed Based Capacity</td>\n",
              "      <td>2021-01-04</td>\n",
              "      <td>92.620455</td>\n",
              "      <td>0</td>\n",
              "      <td>1</td>\n",
              "    </tr>\n",
              "    <tr>\n",
              "      <th>4</th>\n",
              "      <td>Bed Based Capacity</td>\n",
              "      <td>2021-01-05</td>\n",
              "      <td>92.356932</td>\n",
              "      <td>1</td>\n",
              "      <td>1</td>\n",
              "    </tr>\n",
              "  </tbody>\n",
              "</table>\n",
              "</div>\n",
              "    <div class=\"colab-df-buttons\">\n",
              "\n",
              "  <div class=\"colab-df-container\">\n",
              "    <button class=\"colab-df-convert\" onclick=\"convertToInteractive('df-d8704de8-554e-4009-86eb-c224f574fc9d')\"\n",
              "            title=\"Convert this dataframe to an interactive table.\"\n",
              "            style=\"display:none;\">\n",
              "\n",
              "  <svg xmlns=\"http://www.w3.org/2000/svg\" height=\"24px\" viewBox=\"0 -960 960 960\">\n",
              "    <path d=\"M120-120v-720h720v720H120Zm60-500h600v-160H180v160Zm220 220h160v-160H400v160Zm0 220h160v-160H400v160ZM180-400h160v-160H180v160Zm440 0h160v-160H620v160ZM180-180h160v-160H180v160Zm440 0h160v-160H620v160Z\"/>\n",
              "  </svg>\n",
              "    </button>\n",
              "\n",
              "  <style>\n",
              "    .colab-df-container {\n",
              "      display:flex;\n",
              "      gap: 12px;\n",
              "    }\n",
              "\n",
              "    .colab-df-convert {\n",
              "      background-color: #E8F0FE;\n",
              "      border: none;\n",
              "      border-radius: 50%;\n",
              "      cursor: pointer;\n",
              "      display: none;\n",
              "      fill: #1967D2;\n",
              "      height: 32px;\n",
              "      padding: 0 0 0 0;\n",
              "      width: 32px;\n",
              "    }\n",
              "\n",
              "    .colab-df-convert:hover {\n",
              "      background-color: #E2EBFA;\n",
              "      box-shadow: 0px 1px 2px rgba(60, 64, 67, 0.3), 0px 1px 3px 1px rgba(60, 64, 67, 0.15);\n",
              "      fill: #174EA6;\n",
              "    }\n",
              "\n",
              "    .colab-df-buttons div {\n",
              "      margin-bottom: 4px;\n",
              "    }\n",
              "\n",
              "    [theme=dark] .colab-df-convert {\n",
              "      background-color: #3B4455;\n",
              "      fill: #D2E3FC;\n",
              "    }\n",
              "\n",
              "    [theme=dark] .colab-df-convert:hover {\n",
              "      background-color: #434B5C;\n",
              "      box-shadow: 0px 1px 3px 1px rgba(0, 0, 0, 0.15);\n",
              "      filter: drop-shadow(0px 1px 2px rgba(0, 0, 0, 0.3));\n",
              "      fill: #FFFFFF;\n",
              "    }\n",
              "  </style>\n",
              "\n",
              "    <script>\n",
              "      const buttonEl =\n",
              "        document.querySelector('#df-d8704de8-554e-4009-86eb-c224f574fc9d button.colab-df-convert');\n",
              "      buttonEl.style.display =\n",
              "        google.colab.kernel.accessAllowed ? 'block' : 'none';\n",
              "\n",
              "      async function convertToInteractive(key) {\n",
              "        const element = document.querySelector('#df-d8704de8-554e-4009-86eb-c224f574fc9d');\n",
              "        const dataTable =\n",
              "          await google.colab.kernel.invokeFunction('convertToInteractive',\n",
              "                                                    [key], {});\n",
              "        if (!dataTable) return;\n",
              "\n",
              "        const docLinkHtml = 'Like what you see? Visit the ' +\n",
              "          '<a target=\"_blank\" href=https://colab.research.google.com/notebooks/data_table.ipynb>data table notebook</a>'\n",
              "          + ' to learn more about interactive tables.';\n",
              "        element.innerHTML = '';\n",
              "        dataTable['output_type'] = 'display_data';\n",
              "        await google.colab.output.renderOutput(dataTable, element);\n",
              "        const docLink = document.createElement('div');\n",
              "        docLink.innerHTML = docLinkHtml;\n",
              "        element.appendChild(docLink);\n",
              "      }\n",
              "    </script>\n",
              "  </div>\n",
              "\n",
              "\n",
              "<div id=\"df-6e19683c-fbe4-4852-989b-fe0a88460cc4\">\n",
              "  <button class=\"colab-df-quickchart\" onclick=\"quickchart('df-6e19683c-fbe4-4852-989b-fe0a88460cc4')\"\n",
              "            title=\"Suggest charts\"\n",
              "            style=\"display:none;\">\n",
              "\n",
              "<svg xmlns=\"http://www.w3.org/2000/svg\" height=\"24px\"viewBox=\"0 0 24 24\"\n",
              "     width=\"24px\">\n",
              "    <g>\n",
              "        <path d=\"M19 3H5c-1.1 0-2 .9-2 2v14c0 1.1.9 2 2 2h14c1.1 0 2-.9 2-2V5c0-1.1-.9-2-2-2zM9 17H7v-7h2v7zm4 0h-2V7h2v10zm4 0h-2v-4h2v4z\"/>\n",
              "    </g>\n",
              "</svg>\n",
              "  </button>\n",
              "\n",
              "<style>\n",
              "  .colab-df-quickchart {\n",
              "      --bg-color: #E8F0FE;\n",
              "      --fill-color: #1967D2;\n",
              "      --hover-bg-color: #E2EBFA;\n",
              "      --hover-fill-color: #174EA6;\n",
              "      --disabled-fill-color: #AAA;\n",
              "      --disabled-bg-color: #DDD;\n",
              "  }\n",
              "\n",
              "  [theme=dark] .colab-df-quickchart {\n",
              "      --bg-color: #3B4455;\n",
              "      --fill-color: #D2E3FC;\n",
              "      --hover-bg-color: #434B5C;\n",
              "      --hover-fill-color: #FFFFFF;\n",
              "      --disabled-bg-color: #3B4455;\n",
              "      --disabled-fill-color: #666;\n",
              "  }\n",
              "\n",
              "  .colab-df-quickchart {\n",
              "    background-color: var(--bg-color);\n",
              "    border: none;\n",
              "    border-radius: 50%;\n",
              "    cursor: pointer;\n",
              "    display: none;\n",
              "    fill: var(--fill-color);\n",
              "    height: 32px;\n",
              "    padding: 0;\n",
              "    width: 32px;\n",
              "  }\n",
              "\n",
              "  .colab-df-quickchart:hover {\n",
              "    background-color: var(--hover-bg-color);\n",
              "    box-shadow: 0 1px 2px rgba(60, 64, 67, 0.3), 0 1px 3px 1px rgba(60, 64, 67, 0.15);\n",
              "    fill: var(--button-hover-fill-color);\n",
              "  }\n",
              "\n",
              "  .colab-df-quickchart-complete:disabled,\n",
              "  .colab-df-quickchart-complete:disabled:hover {\n",
              "    background-color: var(--disabled-bg-color);\n",
              "    fill: var(--disabled-fill-color);\n",
              "    box-shadow: none;\n",
              "  }\n",
              "\n",
              "  .colab-df-spinner {\n",
              "    border: 2px solid var(--fill-color);\n",
              "    border-color: transparent;\n",
              "    border-bottom-color: var(--fill-color);\n",
              "    animation:\n",
              "      spin 1s steps(1) infinite;\n",
              "  }\n",
              "\n",
              "  @keyframes spin {\n",
              "    0% {\n",
              "      border-color: transparent;\n",
              "      border-bottom-color: var(--fill-color);\n",
              "      border-left-color: var(--fill-color);\n",
              "    }\n",
              "    20% {\n",
              "      border-color: transparent;\n",
              "      border-left-color: var(--fill-color);\n",
              "      border-top-color: var(--fill-color);\n",
              "    }\n",
              "    30% {\n",
              "      border-color: transparent;\n",
              "      border-left-color: var(--fill-color);\n",
              "      border-top-color: var(--fill-color);\n",
              "      border-right-color: var(--fill-color);\n",
              "    }\n",
              "    40% {\n",
              "      border-color: transparent;\n",
              "      border-right-color: var(--fill-color);\n",
              "      border-top-color: var(--fill-color);\n",
              "    }\n",
              "    60% {\n",
              "      border-color: transparent;\n",
              "      border-right-color: var(--fill-color);\n",
              "    }\n",
              "    80% {\n",
              "      border-color: transparent;\n",
              "      border-right-color: var(--fill-color);\n",
              "      border-bottom-color: var(--fill-color);\n",
              "    }\n",
              "    90% {\n",
              "      border-color: transparent;\n",
              "      border-bottom-color: var(--fill-color);\n",
              "    }\n",
              "  }\n",
              "</style>\n",
              "\n",
              "  <script>\n",
              "    async function quickchart(key) {\n",
              "      const quickchartButtonEl =\n",
              "        document.querySelector('#' + key + ' button');\n",
              "      quickchartButtonEl.disabled = true;  // To prevent multiple clicks.\n",
              "      quickchartButtonEl.classList.add('colab-df-spinner');\n",
              "      try {\n",
              "        const charts = await google.colab.kernel.invokeFunction(\n",
              "            'suggestCharts', [key], {});\n",
              "      } catch (error) {\n",
              "        console.error('Error during call to suggestCharts:', error);\n",
              "      }\n",
              "      quickchartButtonEl.classList.remove('colab-df-spinner');\n",
              "      quickchartButtonEl.classList.add('colab-df-quickchart-complete');\n",
              "    }\n",
              "    (() => {\n",
              "      let quickchartButtonEl =\n",
              "        document.querySelector('#df-6e19683c-fbe4-4852-989b-fe0a88460cc4 button');\n",
              "      quickchartButtonEl.style.display =\n",
              "        google.colab.kernel.accessAllowed ? 'block' : 'none';\n",
              "    })();\n",
              "  </script>\n",
              "</div>\n",
              "\n",
              "    </div>\n",
              "  </div>\n"
            ],
            "application/vnd.google.colaboratory.intrinsic+json": {
              "type": "dataframe",
              "variable_name": "capacity_grouped_data",
              "summary": "{\n  \"name\": \"capacity_grouped_data\",\n  \"rows\": 2190,\n  \"fields\": [\n    {\n      \"column\": \"CAPACITY_TYPE\",\n      \"properties\": {\n        \"dtype\": \"category\",\n        \"num_unique_values\": 2,\n        \"samples\": [\n          \"Room Based Capacity\",\n          \"Bed Based Capacity\"\n        ],\n        \"semantic_type\": \"\",\n        \"description\": \"\"\n      }\n    },\n    {\n      \"column\": \"OCCUPANCY_DATE\",\n      \"properties\": {\n        \"dtype\": \"date\",\n        \"min\": \"2021-01-01 00:00:00\",\n        \"max\": \"2023-12-31 00:00:00\",\n        \"num_unique_values\": 1095,\n        \"samples\": [\n          \"2022-06-18 00:00:00\",\n          \"2021-05-20 00:00:00\"\n        ],\n        \"semantic_type\": \"\",\n        \"description\": \"\"\n      }\n    },\n    {\n      \"column\": \"OCCUPANCY_RATE\",\n      \"properties\": {\n        \"dtype\": \"number\",\n        \"std\": 2.6387379018335726,\n        \"min\": 88.55375,\n        \"max\": 100.0,\n        \"num_unique_values\": 2178,\n        \"samples\": [\n          95.07056818181817,\n          97.12848837209302\n        ],\n        \"semantic_type\": \"\",\n        \"description\": \"\"\n      }\n    },\n    {\n      \"column\": \"DAY_OF_WEEK\",\n      \"properties\": {\n        \"dtype\": \"int32\",\n        \"num_unique_values\": 7,\n        \"samples\": [\n          4,\n          5\n        ],\n        \"semantic_type\": \"\",\n        \"description\": \"\"\n      }\n    },\n    {\n      \"column\": \"MONTH\",\n      \"properties\": {\n        \"dtype\": \"int32\",\n        \"num_unique_values\": 12,\n        \"samples\": [\n          11,\n          10\n        ],\n        \"semantic_type\": \"\",\n        \"description\": \"\"\n      }\n    }\n  ]\n}"
            }
          },
          "metadata": {},
          "execution_count": 19
        }
      ]
    },
    {
      "cell_type": "code",
      "source": [
        "# Prepare the feature matrix and target vector\n",
        "X_capacity = capacity_grouped_data[['DAY_OF_WEEK', 'MONTH']]\n",
        "y_capacity = capacity_grouped_data['OCCUPANCY_RATE']\n",
        "\n",
        "# Split the dataset\n",
        "X_train_capacity, X_test_capacity, y_train_capacity, y_test_capacity = train_test_split(X_capacity, y_capacity, test_size=0.2, random_state=42)"
      ],
      "metadata": {
        "id": "Rmk0TOhrH9Rb"
      },
      "execution_count": null,
      "outputs": []
    },
    {
      "cell_type": "code",
      "source": [
        "# Initialize and train the linear regression model\n",
        "model_capacity = LinearRegression()\n",
        "model.fit(X_train_capacity, y_train_capacity)\n",
        "\n",
        "# Predict and evaluate the model\n",
        "predictions_capacity = model.predict(X_test_capacity)\n",
        "mse_capacity = mean_squared_error(y_test_capacity, predictions_capacity)\n",
        "print(f'Mean Squared Error: {mse_capacity}')"
      ],
      "metadata": {
        "colab": {
          "base_uri": "https://localhost:8080/"
        },
        "id": "PtyPOyAoIOCP",
        "outputId": "6813fc0e-18ad-4ea4-aae3-bfafc4ceab94"
      },
      "execution_count": null,
      "outputs": [
        {
          "output_type": "stream",
          "name": "stdout",
          "text": [
            "Mean Squared Error: 6.797647437962082\n"
          ]
        }
      ]
    },
    {
      "cell_type": "code",
      "source": [
        "# Initialize the Random Forest model\n",
        "rf_model_capacity = RandomForestRegressor(n_estimators=100, random_state=42)\n",
        "\n",
        "# Train the model\n",
        "rf_model_capacity.fit(X_train_capacity, y_train_capacity)\n",
        "\n",
        "# Predict and evaluate the model\n",
        "rf_predictions_capacity = rf_model_capacity.predict(X_test_capacity)\n",
        "rf_mse_capacity = mean_squared_error(y_test_capacity, rf_predictions_capacity)\n",
        "print(f'Random Forest Mean Squared Error: {rf_mse_capacity}')"
      ],
      "metadata": {
        "colab": {
          "base_uri": "https://localhost:8080/"
        },
        "id": "swzGksdIIXRQ",
        "outputId": "b372e451-a79b-4811-e58b-447ad6743d46"
      },
      "execution_count": null,
      "outputs": [
        {
          "output_type": "stream",
          "name": "stdout",
          "text": [
            "Random Forest Mean Squared Error: 7.3092803515389475\n"
          ]
        }
      ]
    },
    {
      "cell_type": "markdown",
      "source": [
        "### Weather\n",
        "The Vector Autoregression (VAR) model is a statistical method used to capture the linear interdependencies among multiple time series data by allowing each variable in a system to be modeled as a linear function of past values of itself and the other variables. The principle behind VAR is that it provides insights into how each variable influences others within the dataset, enabling more accurate forecasting and understanding of dynamic interactions across variables.\n",
        "\n",
        "We can use VAR to see how changes in weather, such as temperature and precipitation, might influence how many people use shelters. It considers past trends in weather and shelter occupancy to make these predictions."
      ],
      "metadata": {
        "id": "w639LxP4qM1y"
      }
    },
    {
      "cell_type": "code",
      "source": [
        "weather_file_paths = ['/content/drive/MyDrive/Datasets/en_climate_daily_ON_6158355_2021_P1D.csv', '/content/drive/MyDrive/Datasets/en_climate_daily_ON_6158355_2022_P1D.csv', '/content/drive/MyDrive/Datasets/en_climate_daily_ON_6158355_2023_P1D.csv', '/content/drive/MyDrive/Datasets/en_climate_daily_ON_6158355_2024_P1D.csv']\n",
        "\n",
        "dataframes = [pd.read_csv(file) for file in weather_file_paths]\n",
        "\n",
        "for file in weather_file_paths:\n",
        "    try:\n",
        "        weather_df = pd.read_csv(file)\n",
        "        if df.empty:\n",
        "            print(f\"The file at {file} is empty.\")\n",
        "        else:\n",
        "            print(f\"Loaded {len(weather_df)} rows from {file}\")\n",
        "            dataframes.append(weather_df)\n",
        "    except FileNotFoundError:\n",
        "        print(f\"No file found at {file}\")\n",
        "    except pd.errors.EmptyDataError:\n",
        "        print(f\"File at {file} is empty or corrupted.\")\n",
        "\n",
        "if dataframes:\n",
        "    combined_weather_df = pd.concat(dataframes, ignore_index=True)\n",
        "    print(f\"The combined dataframe has {len(combined_weather_df)} rows.\")\n",
        "else:\n",
        "    print(\"No data has been loaded. Please check the file paths and contents.\")"
      ],
      "metadata": {
        "id": "9oEQunTWzlRf",
        "colab": {
          "base_uri": "https://localhost:8080/"
        },
        "outputId": "136c8590-0e5d-4ec1-e801-7803e44b8ee8"
      },
      "execution_count": null,
      "outputs": [
        {
          "output_type": "stream",
          "name": "stdout",
          "text": [
            "Loaded 365 rows from /content/drive/MyDrive/Datasets/en_climate_daily_ON_6158355_2021_P1D.csv\n",
            "Loaded 365 rows from /content/drive/MyDrive/Datasets/en_climate_daily_ON_6158355_2022_P1D.csv\n",
            "Loaded 365 rows from /content/drive/MyDrive/Datasets/en_climate_daily_ON_6158355_2023_P1D.csv\n",
            "Loaded 366 rows from /content/drive/MyDrive/Datasets/en_climate_daily_ON_6158355_2024_P1D.csv\n",
            "The combined dataframe has 2922 rows.\n"
          ]
        }
      ]
    },
    {
      "cell_type": "code",
      "source": [
        "\n",
        "# Removing unnecessary columns\n",
        "columns_to_drop = ['Longitude (x)', 'Latitude (y)', 'Station Name', 'Climate ID', 'Data Quality', 'Max Temp Flag', 'Min Temp Flag', 'Mean Temp Flag', 'Heat Deg Days (°C)', 'Heat Deg Days Flag', 'Cool Deg Days (°C)', 'Cool Deg Days Flag', 'Total Rain (mm)', 'Total Rain Flag', 'Total Snow (cm)', 'Total Snow Flag', 'Total Precip Flag', 'Snow on Grnd (cm)', 'Snow on Grnd Flag', 'Dir of Max Gust (10s deg)', 'Dir of Max Gust Flag', 'Spd of Max Gust (km/h)', 'Spd of Max Gust Flag']\n",
        "\n",
        "weather_df = combined_weather_df.drop(columns_to_drop, axis=1)\n",
        "\n",
        "print(weather_df.head())\n",
        "\n",
        "# Combine the Year, Month, Day columns to form a 'Date' column\n",
        "weather_df['Date'] = pd.to_datetime(weather_df[['Year', 'Month', 'Day']])\n",
        "\n",
        "# Set 'Date' as the index\n",
        "weather_df.set_index('Date', inplace=True)\n",
        "\n",
        "\n",
        "# Drop the original Year, Month, Day columns as they are no longer needed\n",
        "weather_df.drop(['Year', 'Month', 'Day'], axis=1, inplace=True)\n",
        "\n",
        "# Now, your DataFrame should only have 'Max Temp (°C)', 'Min Temp (°C)', 'Mean Temp (°C)', 'Total Precip (mm)'\n",
        "# Check data\n",
        "print(weather_df.head())"
      ],
      "metadata": {
        "colab": {
          "base_uri": "https://localhost:8080/"
        },
        "id": "muKQgMfq00vx",
        "outputId": "903f5693-f9bd-4d89-a325-4fdee2796a8a"
      },
      "execution_count": null,
      "outputs": [
        {
          "output_type": "stream",
          "name": "stdout",
          "text": [
            "    Date/Time  Year  Month  Day  Max Temp (°C)  Min Temp (°C)  Mean Temp (°C)  \\\n",
            "0  2021-01-01  2021      1    1            2.5           -1.0             0.7   \n",
            "1  2021-01-02  2021      1    2            2.2           -0.9             0.7   \n",
            "2  2021-01-03  2021      1    3            2.1            0.2             1.1   \n",
            "3  2021-01-04  2021      1    4            1.7           -0.1             0.8   \n",
            "4  2021-01-05  2021      1    5            1.6            0.6             1.1   \n",
            "\n",
            "   Total Precip (mm)  \n",
            "0                6.8  \n",
            "1               10.8  \n",
            "2                1.7  \n",
            "3                0.0  \n",
            "4                0.4  \n",
            "             Date/Time  Max Temp (°C)  Min Temp (°C)  Mean Temp (°C)  \\\n",
            "Date                                                                   \n",
            "2021-01-01  2021-01-01            2.5           -1.0             0.7   \n",
            "2021-01-02  2021-01-02            2.2           -0.9             0.7   \n",
            "2021-01-03  2021-01-03            2.1            0.2             1.1   \n",
            "2021-01-04  2021-01-04            1.7           -0.1             0.8   \n",
            "2021-01-05  2021-01-05            1.6            0.6             1.1   \n",
            "\n",
            "            Total Precip (mm)  \n",
            "Date                           \n",
            "2021-01-01                6.8  \n",
            "2021-01-02               10.8  \n",
            "2021-01-03                1.7  \n",
            "2021-01-04                0.0  \n",
            "2021-01-05                0.4  \n"
          ]
        }
      ]
    },
    {
      "cell_type": "code",
      "source": [
        "# Convert 'OCCUPANCY_DATE' to datetime if not already done\n",
        "combined_total_df['OCCUPANCY_DATE'] = pd.to_datetime(combined_total_df['OCCUPANCY_DATE'])\n",
        "\n",
        "# Set 'OCCUPANCY_DATE' as the index of the dataframe\n",
        "combined_total_df.set_index('OCCUPANCY_DATE', inplace=True)"
      ],
      "metadata": {
        "id": "_2nSfa192R-1"
      },
      "execution_count": null,
      "outputs": []
    },
    {
      "cell_type": "code",
      "source": [
        "# Assuming combined_total_df is already prepared and properly indexed by date\n",
        "combined_df = pd.merge(combined_total_df, weather_df, left_index=True, right_index=True, how='left')\n",
        "\n",
        "# Check the combined DataFrame\n",
        "print(combined_df.head())\n"
      ],
      "metadata": {
        "colab": {
          "base_uri": "https://localhost:8080/"
        },
        "id": "YjiQZZwZ06R6",
        "outputId": "f5ecd497-1220-4903-fd29-87b175c3c5fa"
      },
      "execution_count": null,
      "outputs": [
        {
          "output_type": "stream",
          "name": "stdout",
          "text": [
            "                _id  ORGANIZATION_ID         ORGANIZATION_NAME  SHELTER_ID  \\\n",
            "OCCUPANCY_DATE                                                               \n",
            "2021-01-01        1               24  COSTI Immigrant Services          40   \n",
            "2021-01-01        1               24  COSTI Immigrant Services          40   \n",
            "2021-01-01        2               24  COSTI Immigrant Services          40   \n",
            "2021-01-01        2               24  COSTI Immigrant Services          40   \n",
            "2021-01-01        3               24  COSTI Immigrant Services          40   \n",
            "\n",
            "                         SHELTER_GROUP  LOCATION_ID  \\\n",
            "OCCUPANCY_DATE                                        \n",
            "2021-01-01      COSTI Reception Centre       1103.0   \n",
            "2021-01-01      COSTI Reception Centre       1103.0   \n",
            "2021-01-01      COSTI Reception Centre       1103.0   \n",
            "2021-01-01      COSTI Reception Centre       1103.0   \n",
            "2021-01-01      COSTI Reception Centre       1103.0   \n",
            "\n",
            "                                           LOCATION_NAME LOCATION_ADDRESS  \\\n",
            "OCCUPANCY_DATE                                                              \n",
            "2021-01-01      COSTI/City North York West Hotel Program  1677 Wilson Ave   \n",
            "2021-01-01      COSTI/City North York West Hotel Program  1677 Wilson Ave   \n",
            "2021-01-01      COSTI/City North York West Hotel Program  1677 Wilson Ave   \n",
            "2021-01-01      COSTI/City North York West Hotel Program  1677 Wilson Ave   \n",
            "2021-01-01      COSTI/City North York West Hotel Program  1677 Wilson Ave   \n",
            "\n",
            "               LOCATION_POSTAL_CODE LOCATION_CITY  ... OCCUPANCY_RATE  YEAR  \\\n",
            "OCCUPANCY_DATE                                     ...                        \n",
            "2021-01-01                  M3L 1A5   North York   ...          89.66  2021   \n",
            "2021-01-01                  M3L 1A5   North York   ...          89.66  2021   \n",
            "2021-01-01                  M3L 1A5   North York   ...         100.00  2021   \n",
            "2021-01-01                  M3L 1A5   North York   ...         100.00  2021   \n",
            "2021-01-01                  M3L 1A5   North York   ...          82.14  2021   \n",
            "\n",
            "               MONTH DAY DAY_OF_WEEK   Date/Time Max Temp (°C)  Min Temp (°C)  \\\n",
            "OCCUPANCY_DATE                                                                  \n",
            "2021-01-01         1   1           4  2021-01-01           2.5           -1.0   \n",
            "2021-01-01         1   1           4  2021-01-01           2.5           -1.0   \n",
            "2021-01-01         1   1           4  2021-01-01           2.5           -1.0   \n",
            "2021-01-01         1   1           4  2021-01-01           2.5           -1.0   \n",
            "2021-01-01         1   1           4  2021-01-01           2.5           -1.0   \n",
            "\n",
            "               Mean Temp (°C)  Total Precip (mm)  \n",
            "OCCUPANCY_DATE                                    \n",
            "2021-01-01                0.7                6.8  \n",
            "2021-01-01                0.7                6.8  \n",
            "2021-01-01                0.7                6.8  \n",
            "2021-01-01                0.7                6.8  \n",
            "2021-01-01                0.7                6.8  \n",
            "\n",
            "[5 rows x 41 columns]\n"
          ]
        }
      ]
    },
    {
      "cell_type": "code",
      "source": [
        "from statsmodels.tsa.vector_ar.var_model import VAR\n",
        "from statsmodels.tsa.stattools import adfuller\n",
        "\n",
        "combined_df.replace([np.inf, -np.inf], np.nan, inplace=True)  # Replace inf with NaN\n",
        "combined_df.dropna(subset=['OCCUPANCY_RATE', 'Mean Temp (°C)', 'Total Precip (mm)'], inplace=True)\n",
        "\n"
      ],
      "metadata": {
        "id": "nRr0R44v3gct"
      },
      "execution_count": null,
      "outputs": []
    },
    {
      "cell_type": "code",
      "source": [
        "# Assuming stationarity or after making data stationary\n",
        "model = VAR(combined_df[['OCCUPANCY_RATE', 'Mean Temp (°C)', 'Total Precip (mm)']])\n",
        "results = model.fit(maxlags=15, ic='aic')\n"
      ],
      "metadata": {
        "colab": {
          "base_uri": "https://localhost:8080/"
        },
        "id": "UW60Dyu6iUYG",
        "outputId": "55e75556-b950-41e7-f916-518a0b5d8df2"
      },
      "execution_count": null,
      "outputs": [
        {
          "output_type": "stream",
          "name": "stderr",
          "text": [
            "/usr/local/lib/python3.10/dist-packages/statsmodels/tsa/base/tsa_model.py:473: ValueWarning: A date index has been provided, but it has no associated frequency information and so will be ignored when e.g. forecasting.\n",
            "  self._init_dates(dates, freq)\n"
          ]
        }
      ]
    },
    {
      "cell_type": "code",
      "source": [
        "# Forecasting the next 5 steps\n",
        "lag_order = results.k_ar\n",
        "forecasted_values = results.forecast(combined_df[['OCCUPANCY_RATE', 'Mean Temp (°C)', 'Total Precip (mm)']].values[-lag_order:], steps=5)\n",
        "forecasted_values_df = pd.DataFrame(forecasted_values, columns=['OCCUPANCY_RATE', 'Mean Temp (°C)', 'Total Precip (mm)'])\n",
        "\n",
        "print(forecasted_values_df)"
      ],
      "metadata": {
        "colab": {
          "base_uri": "https://localhost:8080/"
        },
        "id": "-_jpzB9ijb4s",
        "outputId": "156089f0-da42-49bc-df6d-340f03cfe181"
      },
      "execution_count": null,
      "outputs": [
        {
          "output_type": "stream",
          "name": "stdout",
          "text": [
            "   OCCUPANCY_RATE  Mean Temp (°C)  Total Precip (mm)\n",
            "0       97.922942        0.300851           2.299403\n",
            "1       96.991149        0.301746           2.298761\n",
            "2       96.980679        0.302711           2.298140\n",
            "3       96.832125        0.303599           2.297500\n",
            "4       96.507261        0.304484           2.296841\n"
          ]
        }
      ]
    },
    {
      "cell_type": "code",
      "source": [
        "# Define the split point, typically hold out the last few observations for testing\n",
        "split_point = int(len(combined_df) * 0.8)\n",
        "train, test = combined_df.iloc[:split_point], combined_df.iloc[split_point:]\n",
        "\n",
        "# Fit the VAR model on the training data\n",
        "model = VAR(train[['OCCUPANCY_RATE', 'Mean Temp (°C)', 'Total Precip (mm)']])\n",
        "results = model.fit(maxlags=15, ic='aic')\n",
        "\n",
        "# Forecast the test dataset\n",
        "forecasted_values = results.forecast(train[['OCCUPANCY_RATE', 'Mean Temp (°C)', 'Total Precip (mm)']].values[-results.k_ar:], steps=len(test))\n",
        "forecasted_values_df = pd.DataFrame(forecasted_values, index=test.index, columns=['OCCUPANCY_RATE', 'Mean Temp (°C)', 'Total Precip (mm)'])"
      ],
      "metadata": {
        "colab": {
          "base_uri": "https://localhost:8080/"
        },
        "id": "vjj24PC8kZGR",
        "outputId": "3d696bfd-8412-499c-d9f0-c3f3e1743cc9"
      },
      "execution_count": null,
      "outputs": [
        {
          "output_type": "stream",
          "name": "stderr",
          "text": [
            "/usr/local/lib/python3.10/dist-packages/statsmodels/tsa/base/tsa_model.py:473: ValueWarning: A date index has been provided, but it has no associated frequency information and so will be ignored when e.g. forecasting.\n",
            "  self._init_dates(dates, freq)\n"
          ]
        }
      ]
    },
    {
      "cell_type": "code",
      "source": [
        "from sklearn.metrics import mean_squared_error, mean_absolute_error\n",
        "\n",
        "\n",
        "\n",
        "# Calculate metrics for 'OCCUPANCY_RATE'\n",
        "rmse = mean_squared_error(test['OCCUPANCY_RATE'], forecasted_values_df['OCCUPANCY_RATE'])\n",
        "\n",
        "print(f'Vector Autoregression Model Mean Squared Error: {rmse}')\n"
      ],
      "metadata": {
        "colab": {
          "base_uri": "https://localhost:8080/"
        },
        "id": "qwsJzGYQkfLi",
        "outputId": "5d15fb4e-72c1-4aaf-9432-14c74603e019"
      },
      "execution_count": null,
      "outputs": [
        {
          "output_type": "stream",
          "name": "stdout",
          "text": [
            "Vector Autoregression Model Mean Squared Error: 53.30212223936081\n"
          ]
        }
      ]
    },
    {
      "cell_type": "markdown",
      "source": [
        "# Combining the Models Together"
      ],
      "metadata": {
        "id": "dX8gDTygPMbB"
      }
    },
    {
      "cell_type": "markdown",
      "source": [
        "## Full Prediction Model for Data"
      ],
      "metadata": {
        "id": "K1eehskvTbJf"
      }
    },
    {
      "cell_type": "code",
      "source": [
        "y = daily_city_average['OCCUPANCY_RATE'] # Target Variable: OCCUPANCY RATE"
      ],
      "metadata": {
        "id": "hc-TUOapURKS"
      },
      "execution_count": null,
      "outputs": []
    },
    {
      "cell_type": "code",
      "source": [
        "# applying parameters to SARIMA\n",
        "p, d, q = 3, 0, 0\n",
        "P, D, Q, m = 2, 1, 0, 12\n",
        "\n",
        "city_model_full = SARIMAX(y,\n",
        "                order=(p, d, q),\n",
        "                seasonal_order=(P, D, Q, m),\n",
        "                enforce_stationarity=False,\n",
        "                enforce_invertibility=False)\n",
        "\n",
        "city_full_results = city_model_full.fit()\n",
        "\n",
        "# Forecast for the full date range present in your dataset\n",
        "city_full_forecast = city_full_results.get_prediction(start=df['OCCUPANCY_DATE'].min(), end=df['OCCUPANCY_DATE'].max())\n",
        "city_full_predictions = city_full_forecast.predicted_mean\n"
      ],
      "metadata": {
        "colab": {
          "base_uri": "https://localhost:8080/"
        },
        "id": "PorByUpaUE0o",
        "outputId": "d658ea6d-6201-45be-ad22-182b2c93c5b5"
      },
      "execution_count": null,
      "outputs": [
        {
          "output_type": "stream",
          "name": "stderr",
          "text": [
            "/usr/local/lib/python3.10/dist-packages/statsmodels/tsa/base/tsa_model.py:473: ValueWarning: No frequency information was provided, so inferred frequency D will be used.\n",
            "  self._init_dates(dates, freq)\n",
            "/usr/local/lib/python3.10/dist-packages/statsmodels/tsa/base/tsa_model.py:473: ValueWarning: No frequency information was provided, so inferred frequency D will be used.\n",
            "  self._init_dates(dates, freq)\n"
          ]
        }
      ]
    },
    {
      "cell_type": "markdown",
      "source": [
        "### Average + Postal Code"
      ],
      "metadata": {
        "id": "zecQrBOMXSZ4"
      }
    },
    {
      "cell_type": "code",
      "source": [
        "postal_code_predictions = rf_model_postal.predict(postal_X)"
      ],
      "metadata": {
        "id": "u2fiTpCJTcwq"
      },
      "execution_count": null,
      "outputs": []
    },
    {
      "cell_type": "code",
      "source": [
        "# Convert the index of city-wide predictions to a DataFrame\n",
        "city_predictions_df = city_full_predictions.reset_index()\n",
        "city_predictions_df.columns = ['OCCUPANCY_DATE', 'CITY_PREDICTIONS']\n",
        "\n",
        "# Merge city-wide predictions with postal code data\n",
        "postal_code_data = pd.merge(postal_code_data, city_predictions_df, on='OCCUPANCY_DATE', how='left')"
      ],
      "metadata": {
        "id": "9nBTW5g1PO91"
      },
      "execution_count": null,
      "outputs": []
    },
    {
      "cell_type": "code",
      "source": [
        "# Calculate the difference as a percentage\n",
        "postal_code_data['PERCENT_DIFF'] = ((postal_code_data['OCCUPANCY_RATE'] - postal_code_data['CITY_PREDICTIONS']) / postal_code_data['CITY_PREDICTIONS']) * 100\n",
        "\n",
        "# Group by postal code to find average difference per postal code\n",
        "average_difference_by_postal_code = postal_code_data.groupby('LOCATION_POSTAL_CODE')['PERCENT_DIFF'].mean().reset_index()\n",
        "print(average_difference_by_postal_code)"
      ],
      "metadata": {
        "colab": {
          "base_uri": "https://localhost:8080/"
        },
        "id": "yTuILrvATkir",
        "outputId": "c42c109b-5dc3-4f5a-fc5a-05f64a383519"
      },
      "execution_count": null,
      "outputs": [
        {
          "output_type": "stream",
          "name": "stdout",
          "text": [
            "    LOCATION_POSTAL_CODE  PERCENT_DIFF\n",
            "0                L4L 8P5     -0.580868\n",
            "1                M1B 3M6      1.950321\n",
            "2                M1E 2M6      1.788946\n",
            "3                M1E 2N8      1.652000\n",
            "4                M1E 2P4      1.937915\n",
            "..                   ...           ...\n",
            "116              M8Y 1A3      1.996329\n",
            "117              M9V 1P9     -5.334910\n",
            "118              M9V 2X6      1.926341\n",
            "119              M9W 1J1      1.943663\n",
            "120              M9W 6P8      2.016795\n",
            "\n",
            "[121 rows x 2 columns]\n"
          ]
        }
      ]
    },
    {
      "cell_type": "code",
      "source": [
        "plt.figure(figsize=(12, 6))\n",
        "plt.bar(average_difference_by_postal_code['LOCATION_POSTAL_CODE'], average_difference_by_postal_code['PERCENT_DIFF'], color='green')\n",
        "plt.xlabel('Postal Code')\n",
        "plt.ylabel('Percentage Difference from City Predictions')\n",
        "plt.title('Differences in Occupancy Rate Predictions by Postal Code Compared to City-Wide Average')\n",
        "plt.xticks(rotation=90)\n",
        "plt.grid(True)\n",
        "plt.show()"
      ],
      "metadata": {
        "colab": {
          "base_uri": "https://localhost:8080/",
          "height": 442
        },
        "id": "PpKguwPGU42D",
        "outputId": "9ceb045c-e7e4-4408-df55-2cde5191b14e"
      },
      "execution_count": null,
      "outputs": [
        {
          "output_type": "display_data",
          "data": {
            "text/plain": [
              "<Figure size 1200x600 with 1 Axes>"
            ],
            "image/png": "[encoded data removed]"
          },
          "metadata": {}
        }
      ]
    },
    {
      "cell_type": "code",
      "source": [
        "def adjusted_postal_code_predictions(start_date, end_date, postal_code, city_model, adjustment_factors):\n",
        "    # Convert dates to string format if the model's date index expects that\n",
        "    start_str = pd.to_datetime(start_date).strftime('%Y-%m-%d')\n",
        "    end_str = pd.to_datetime(end_date).strftime('%Y-%m-%d')\n",
        "\n",
        "    # Assuming the index of the SARIMAX model is a datetime index\n",
        "    # Generate city-wide predictions from SARIMAX model\n",
        "    city_forecast = city_model.get_prediction(start=start_str, end=end_str)\n",
        "    city_predictions = city_forecast.predicted_mean\n",
        "\n",
        "    # Convert city-wide predictions to DataFrame\n",
        "    city_pred_df = city_predictions.to_frame(name='CITY_PREDICTIONS').reset_index()\n",
        "    city_pred_df.rename(columns={'index': 'OCCUPANCY_DATE'}, inplace=True)\n",
        "\n",
        "    # Apply the adjustment factor for the specified postal code\n",
        "    # Assuming 'adjustment_factors' is a dictionary with postal codes as keys and adjustment percentages as values\n",
        "    if postal_code in adjustment_factors:\n",
        "        city_pred_df['ADJUSTED_PREDICTIONS'] = city_pred_df['CITY_PREDICTIONS'] * (1 + adjustment_factors[postal_code] / 100)\n",
        "    else:\n",
        "        city_pred_df['ADJUSTED_PREDICTIONS'] = city_pred_df['CITY_PREDICTIONS']  # No adjustment if postal code not found\n",
        "\n",
        "    return city_pred_df\n"
      ],
      "metadata": {
        "id": "wtbPnFKTVYiE"
      },
      "execution_count": 47,
      "outputs": []
    },
    {
      "cell_type": "code",
      "source": [
        "# Example: Generate predictions from Jan 1, 2024, to Jan 31, 2024, for postal code 'M3L 1A5'\n",
        "start_date = '2024-06-01'\n",
        "end_date = '2024-07-01'\n",
        "postal_code = 'M3L 1A5'\n",
        "adjustment_factors = {\n",
        "    'M3L 1A5': average_difference_by_postal_code.loc[average_difference_by_postal_code['LOCATION_POSTAL_CODE'] == 'M3L 1A5', 'PERCENT_DIFF'].iloc[0]\n",
        "}\n",
        "\n",
        "# Assuming 'city_full_results' is your trained SARIMAX model object\n",
        "adjusted_predictions = adjusted_postal_code_predictions(start_date, end_date, postal_code, city_full_results, adjustment_factors)\n",
        "print(adjusted_predictions)"
      ],
      "metadata": {
        "colab": {
          "base_uri": "https://localhost:8080/"
        },
        "id": "WPFRneGgVa8-",
        "outputId": "b36a9029-35ea-4577-8475-3bbba53b5a3c"
      },
      "execution_count": 48,
      "outputs": [
        {
          "output_type": "stream",
          "name": "stdout",
          "text": [
            "   OCCUPANCY_DATE  CITY_PREDICTIONS  ADJUSTED_PREDICTIONS\n",
            "0      2024-06-01         97.219231             98.079445\n",
            "1      2024-06-02         97.375900             98.237501\n",
            "2      2024-06-03         97.477936             98.340440\n",
            "3      2024-06-04         96.486129             97.339857\n",
            "4      2024-06-05         96.893666             97.751000\n",
            "5      2024-06-06         97.178588             98.038443\n",
            "6      2024-06-07         97.175005             98.034828\n",
            "7      2024-06-08         97.528411             98.391362\n",
            "8      2024-06-09         97.540503             98.403560\n",
            "9      2024-06-10         97.434260             98.296378\n",
            "10     2024-06-11         97.495855             98.358517\n",
            "11     2024-06-12         97.430906             98.292993\n",
            "12     2024-06-13         97.219494             98.079711\n",
            "13     2024-06-14         97.376156             98.237759\n",
            "14     2024-06-15         97.478058             98.340563\n",
            "15     2024-06-16         96.485993             97.339720\n",
            "16     2024-06-17         96.893621             97.750954\n",
            "17     2024-06-18         97.178651             98.038506\n",
            "18     2024-06-19         97.175075             98.034899\n",
            "19     2024-06-20         97.528451             98.391401\n",
            "20     2024-06-21         97.540519             98.403577\n",
            "21     2024-06-22         97.434277             98.296395\n",
            "22     2024-06-23         97.495910             98.358573\n",
            "23     2024-06-24         97.431008             98.293097\n",
            "24     2024-06-25         97.219628             98.079846\n",
            "25     2024-06-26         97.376231             98.237835\n",
            "26     2024-06-27         97.478100             98.340605\n",
            "27     2024-06-28         96.485898             97.339624\n",
            "28     2024-06-29         96.893545             97.750878\n",
            "29     2024-06-30         97.178538             98.038392\n",
            "30     2024-07-01         97.174956             98.034779\n"
          ]
        }
      ]
    },
    {
      "cell_type": "markdown",
      "source": [
        "### Average + Capacity Type"
      ],
      "metadata": {
        "id": "Bp4qLeh5XXcj"
      }
    },
    {
      "cell_type": "code",
      "source": [
        "predictions_sector = rf_model_sector.predict(X_sector)"
      ],
      "metadata": {
        "id": "BT1HGkRpXZjb"
      },
      "execution_count": 55,
      "outputs": []
    },
    {
      "cell_type": "code",
      "source": [
        "# Merge city-wide predictions with postal code data\n",
        "sector_data = pd.merge(sector_data, city_predictions_df, on='OCCUPANCY_DATE', how='left')"
      ],
      "metadata": {
        "id": "FjJQlFo-XguN"
      },
      "execution_count": 56,
      "outputs": []
    },
    {
      "cell_type": "code",
      "source": [
        "# Calculate the difference as a percentage\n",
        "sector_data['PERCENT_DIFF'] = ((sector_data['OCCUPANCY_RATE'] - sector_data['CITY_PREDICTIONS']) / sector_data['CITY_PREDICTIONS']) * 100\n",
        "\n",
        "# Group by postal code to find average difference per postal code\n",
        "average_difference_by_sector = sector_data.groupby('SECTOR')['PERCENT_DIFF'].mean().reset_index()\n",
        "print(average_difference_by_sector)"
      ],
      "metadata": {
        "colab": {
          "base_uri": "https://localhost:8080/"
        },
        "id": "Lsv2FLdrZBG9",
        "outputId": "0c2dbde0-5d2f-4b5f-9a2d-ac76b28377c2"
      },
      "execution_count": 58,
      "outputs": [
        {
          "output_type": "stream",
          "name": "stdout",
          "text": [
            "        SECTOR  PERCENT_DIFF\n",
            "0     Families      1.062018\n",
            "1          Men      0.145593\n",
            "2  Mixed Adult      0.097006\n",
            "3        Women      1.379565\n",
            "4        Youth     -2.556067\n"
          ]
        }
      ]
    },
    {
      "cell_type": "code",
      "source": [
        "plt.figure(figsize=(12, 6))\n",
        "plt.bar(average_difference_by_sector['SECTOR'], average_difference_by_sector['PERCENT_DIFF'], color='green')\n",
        "plt.xlabel('Sector')\n",
        "plt.ylabel('Percentage Difference from City Predictions')\n",
        "plt.title('Differences in Occupancy Rate Predictions by Postal Code Compared to City-Wide Average')\n",
        "plt.xticks(rotation=90)\n",
        "plt.grid(True)\n",
        "plt.show()"
      ],
      "metadata": {
        "colab": {
          "base_uri": "https://localhost:8080/",
          "height": 631
        },
        "id": "3yNTLm7qZWPC",
        "outputId": "2b6c1ecd-fddd-47ba-9a43-65f6199385b5"
      },
      "execution_count": 59,
      "outputs": [
        {
          "output_type": "display_data",
          "data": {
            "text/plain": [
              "<Figure size 1200x600 with 1 Axes>"
            ],
            "image/png": "[encoded data removed]"
          },
          "metadata": {}
        }
      ]
    }
  ]
}